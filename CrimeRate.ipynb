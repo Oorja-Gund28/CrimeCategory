{
 "cells": [
  {
   "cell_type": "code",
   "execution_count": 96,
   "id": "abc6f9f0-cf11-47a6-97fc-30c1d1d6844c",
   "metadata": {},
   "outputs": [],
   "source": [
    "import numpy as np\n",
    "import pandas as pd\n",
    "import seaborn as sns\n",
    "import matplotlib.pyplot as plt\n",
    "import datetime as dt\n",
    "from statsmodels.stats.outliers_influence import variance_inflation_factor\n",
    "import statsmodels.formula.api as smf\n",
    "from sklearn.model_selection import train_test_split, GridSearchCV, RandomizedSearchCV\n",
    "from sklearn import metrics\n",
    "from sklearn.metrics import accuracy_score, classification_report,precision_score, roc_curve, roc_auc_score, precision_recall_curve, auc, confusion_matrix\n",
    "from sklearn.impute import KNNImputer, SimpleImputer\n",
    "from sklearn.preprocessing import StandardScaler, MinMaxScaler, LabelEncoder, OneHotEncoder\n",
    "from sklearn.feature_selection import RFE, SelectKBest, chi2, f_classif\n",
    "from sklearn.linear_model import LinearRegression, LogisticRegression\n",
    "from sklearn.neighbors import KNeighborsClassifier, KNeighborsRegressor\n",
    "from sklearn.tree import DecisionTreeClassifier, DecisionTreeRegressor\n",
    "from sklearn.ensemble import BaggingClassifier, BaggingRegressor, RandomForestClassifier, RandomForestRegressor, GradientBoostingClassifier, GradientBoostingRegressor, AdaBoostClassifier, AdaBoostRegressor\n",
    "from sklearn.naive_bayes import BernoulliNB, MultinomialNB, GaussianNB\n",
    "from xgboost import XGBClassifier, XGBRegressor"
   ]
  },
  {
   "cell_type": "code",
   "execution_count": 97,
   "id": "d53669d5-8394-45fe-9473-06e8c9fd98a4",
   "metadata": {},
   "outputs": [],
   "source": [
    "from sqlalchemy import create_engine"
   ]
  },
  {
   "cell_type": "markdown",
   "id": "0733a4b5-c54a-4699-ba9e-cbf8e31ced29",
   "metadata": {},
   "source": [
    "### Importing Data from SQL database"
   ]
  },
  {
   "cell_type": "code",
   "execution_count": 98,
   "id": "d3285a62-1746-4b9d-8057-e303f827e041",
   "metadata": {},
   "outputs": [
    {
     "name": "stderr",
     "output_type": "stream",
     "text": [
      "<>:2: SyntaxWarning: invalid escape sequence '\\S'\n",
      "<>:2: SyntaxWarning: invalid escape sequence '\\S'\n",
      "C:\\Users\\user\\AppData\\Local\\Temp\\ipykernel_11308\\2413514979.py:2: SyntaxWarning: invalid escape sequence '\\S'\n",
      "  \"mssql+pyodbc://DESKTOP-ALEGQ73\\SQLEXPRESS/ML?driver=ODBC+Driver+17+for+SQL+Server&trusted_connection=yes\")\n"
     ]
    },
    {
     "data": {
      "text/html": [
       "<div>\n",
       "<style scoped>\n",
       "    .dataframe tbody tr th:only-of-type {\n",
       "        vertical-align: middle;\n",
       "    }\n",
       "\n",
       "    .dataframe tbody tr th {\n",
       "        vertical-align: top;\n",
       "    }\n",
       "\n",
       "    .dataframe thead th {\n",
       "        text-align: right;\n",
       "    }\n",
       "</style>\n",
       "<table border=\"1\" class=\"dataframe\">\n",
       "  <thead>\n",
       "    <tr style=\"text-align: right;\">\n",
       "      <th></th>\n",
       "      <th>Location</th>\n",
       "      <th>Cross_Street</th>\n",
       "      <th>Latitude</th>\n",
       "      <th>Longitude</th>\n",
       "      <th>Date_Reported</th>\n",
       "      <th>Date_Occurred</th>\n",
       "      <th>Time_Occurred</th>\n",
       "      <th>Area_ID</th>\n",
       "      <th>Area_Name</th>\n",
       "      <th>Reporting_District_no</th>\n",
       "      <th>...</th>\n",
       "      <th>Victim_Age</th>\n",
       "      <th>Victim_Sex</th>\n",
       "      <th>Victim_Descent</th>\n",
       "      <th>Premise_Code</th>\n",
       "      <th>Premise_Description</th>\n",
       "      <th>Weapon_Used_Code</th>\n",
       "      <th>Weapon_Description</th>\n",
       "      <th>Status</th>\n",
       "      <th>Status_Description</th>\n",
       "      <th>Crime_Category</th>\n",
       "    </tr>\n",
       "  </thead>\n",
       "  <tbody>\n",
       "    <tr>\n",
       "      <th>0</th>\n",
       "      <td>4500    CARPENTER                    AV</td>\n",
       "      <td>None</td>\n",
       "      <td>34.152199</td>\n",
       "      <td>-118.390999</td>\n",
       "      <td>2020-03-09</td>\n",
       "      <td>2020-03-06</td>\n",
       "      <td>1800.0</td>\n",
       "      <td>15.0</td>\n",
       "      <td>N Hollywood</td>\n",
       "      <td>1563.0</td>\n",
       "      <td>...</td>\n",
       "      <td>75.0</td>\n",
       "      <td>M</td>\n",
       "      <td>W</td>\n",
       "      <td>101.0</td>\n",
       "      <td>STREET</td>\n",
       "      <td>NaN</td>\n",
       "      <td>None</td>\n",
       "      <td>IC</td>\n",
       "      <td>Invest Cont</td>\n",
       "      <td>Property Crimes</td>\n",
       "    </tr>\n",
       "    <tr>\n",
       "      <th>1</th>\n",
       "      <td>45TH                         ST</td>\n",
       "      <td>ALAMEDA                      ST</td>\n",
       "      <td>34.002800</td>\n",
       "      <td>-118.239098</td>\n",
       "      <td>2020-02-27</td>\n",
       "      <td>2020-02-27</td>\n",
       "      <td>1345.0</td>\n",
       "      <td>13.0</td>\n",
       "      <td>Newton</td>\n",
       "      <td>1367.0</td>\n",
       "      <td>...</td>\n",
       "      <td>41.0</td>\n",
       "      <td>M</td>\n",
       "      <td>H</td>\n",
       "      <td>216.0</td>\n",
       "      <td>SWAP MEET</td>\n",
       "      <td>400.0</td>\n",
       "      <td>STRONG-ARM (HANDS, FIST, FEET OR BODILY FORCE)</td>\n",
       "      <td>IC</td>\n",
       "      <td>Invest Cont</td>\n",
       "      <td>Property Crimes</td>\n",
       "    </tr>\n",
       "    <tr>\n",
       "      <th>2</th>\n",
       "      <td>600 E  MARTIN LUTHER KING JR        BL</td>\n",
       "      <td>None</td>\n",
       "      <td>34.011101</td>\n",
       "      <td>-118.265297</td>\n",
       "      <td>2020-08-21</td>\n",
       "      <td>2020-08-21</td>\n",
       "      <td>605.0</td>\n",
       "      <td>13.0</td>\n",
       "      <td>Newton</td>\n",
       "      <td>1343.0</td>\n",
       "      <td>...</td>\n",
       "      <td>67.0</td>\n",
       "      <td>M</td>\n",
       "      <td>B</td>\n",
       "      <td>501.0</td>\n",
       "      <td>SINGLE FAMILY DWELLING</td>\n",
       "      <td>NaN</td>\n",
       "      <td>None</td>\n",
       "      <td>IC</td>\n",
       "      <td>Invest Cont</td>\n",
       "      <td>Property Crimes</td>\n",
       "    </tr>\n",
       "    <tr>\n",
       "      <th>3</th>\n",
       "      <td>14900    ORO GRANDE                   ST</td>\n",
       "      <td>None</td>\n",
       "      <td>34.295300</td>\n",
       "      <td>-118.459000</td>\n",
       "      <td>2020-11-08</td>\n",
       "      <td>2020-11-06</td>\n",
       "      <td>1800.0</td>\n",
       "      <td>19.0</td>\n",
       "      <td>Mission</td>\n",
       "      <td>1924.0</td>\n",
       "      <td>...</td>\n",
       "      <td>61.0</td>\n",
       "      <td>M</td>\n",
       "      <td>H</td>\n",
       "      <td>101.0</td>\n",
       "      <td>STREET</td>\n",
       "      <td>NaN</td>\n",
       "      <td>None</td>\n",
       "      <td>IC</td>\n",
       "      <td>Invest Cont</td>\n",
       "      <td>Property Crimes</td>\n",
       "    </tr>\n",
       "    <tr>\n",
       "      <th>4</th>\n",
       "      <td>7100 S  VERMONT                      AV</td>\n",
       "      <td>None</td>\n",
       "      <td>33.978699</td>\n",
       "      <td>-118.291801</td>\n",
       "      <td>2020-02-25</td>\n",
       "      <td>2020-02-25</td>\n",
       "      <td>1130.0</td>\n",
       "      <td>12.0</td>\n",
       "      <td>77th Street</td>\n",
       "      <td>1245.0</td>\n",
       "      <td>...</td>\n",
       "      <td>0.0</td>\n",
       "      <td>X</td>\n",
       "      <td>X</td>\n",
       "      <td>401.0</td>\n",
       "      <td>MINI-MART</td>\n",
       "      <td>400.0</td>\n",
       "      <td>STRONG-ARM (HANDS, FIST, FEET OR BODILY FORCE)</td>\n",
       "      <td>IC</td>\n",
       "      <td>Invest Cont</td>\n",
       "      <td>Property Crimes</td>\n",
       "    </tr>\n",
       "    <tr>\n",
       "      <th>...</th>\n",
       "      <td>...</td>\n",
       "      <td>...</td>\n",
       "      <td>...</td>\n",
       "      <td>...</td>\n",
       "      <td>...</td>\n",
       "      <td>...</td>\n",
       "      <td>...</td>\n",
       "      <td>...</td>\n",
       "      <td>...</td>\n",
       "      <td>...</td>\n",
       "      <td>...</td>\n",
       "      <td>...</td>\n",
       "      <td>...</td>\n",
       "      <td>...</td>\n",
       "      <td>...</td>\n",
       "      <td>...</td>\n",
       "      <td>...</td>\n",
       "      <td>...</td>\n",
       "      <td>...</td>\n",
       "      <td>...</td>\n",
       "      <td>...</td>\n",
       "    </tr>\n",
       "    <tr>\n",
       "      <th>19989</th>\n",
       "      <td>5100 W  ADAMS                        BL</td>\n",
       "      <td>None</td>\n",
       "      <td>34.033401</td>\n",
       "      <td>-118.352303</td>\n",
       "      <td>2020-05-24</td>\n",
       "      <td>2020-05-24</td>\n",
       "      <td>700.0</td>\n",
       "      <td>3.0</td>\n",
       "      <td>Southwest</td>\n",
       "      <td>303.0</td>\n",
       "      <td>...</td>\n",
       "      <td>51.0</td>\n",
       "      <td>M</td>\n",
       "      <td>H</td>\n",
       "      <td>501.0</td>\n",
       "      <td>SINGLE FAMILY DWELLING</td>\n",
       "      <td>400.0</td>\n",
       "      <td>STRONG-ARM (HANDS, FIST, FEET OR BODILY FORCE)</td>\n",
       "      <td>IC</td>\n",
       "      <td>Invest Cont</td>\n",
       "      <td>Violent Crimes</td>\n",
       "    </tr>\n",
       "    <tr>\n",
       "      <th>19990</th>\n",
       "      <td>16900    ROSCOE                       BL</td>\n",
       "      <td>None</td>\n",
       "      <td>34.221199</td>\n",
       "      <td>-118.501099</td>\n",
       "      <td>2020-12-25</td>\n",
       "      <td>2020-12-25</td>\n",
       "      <td>259.0</td>\n",
       "      <td>10.0</td>\n",
       "      <td>West Valley</td>\n",
       "      <td>1008.0</td>\n",
       "      <td>...</td>\n",
       "      <td>0.0</td>\n",
       "      <td>M</td>\n",
       "      <td>W</td>\n",
       "      <td>301.0</td>\n",
       "      <td>GAS STATION</td>\n",
       "      <td>NaN</td>\n",
       "      <td>None</td>\n",
       "      <td>IC</td>\n",
       "      <td>Invest Cont</td>\n",
       "      <td>Property Crimes</td>\n",
       "    </tr>\n",
       "    <tr>\n",
       "      <th>19991</th>\n",
       "      <td>1000 S  SHENANDOAH                   ST</td>\n",
       "      <td>None</td>\n",
       "      <td>34.057098</td>\n",
       "      <td>-118.381500</td>\n",
       "      <td>2020-09-25</td>\n",
       "      <td>2020-09-25</td>\n",
       "      <td>1400.0</td>\n",
       "      <td>8.0</td>\n",
       "      <td>West LA</td>\n",
       "      <td>849.0</td>\n",
       "      <td>...</td>\n",
       "      <td>42.0</td>\n",
       "      <td>M</td>\n",
       "      <td>H</td>\n",
       "      <td>102.0</td>\n",
       "      <td>SIDEWALK</td>\n",
       "      <td>NaN</td>\n",
       "      <td>None</td>\n",
       "      <td>IC</td>\n",
       "      <td>Invest Cont</td>\n",
       "      <td>Property Crimes</td>\n",
       "    </tr>\n",
       "    <tr>\n",
       "      <th>19992</th>\n",
       "      <td>300 W  SEPULVEDA                    ST</td>\n",
       "      <td>None</td>\n",
       "      <td>33.745098</td>\n",
       "      <td>-118.283501</td>\n",
       "      <td>2020-06-10</td>\n",
       "      <td>2020-06-10</td>\n",
       "      <td>600.0</td>\n",
       "      <td>5.0</td>\n",
       "      <td>Harbor</td>\n",
       "      <td>558.0</td>\n",
       "      <td>...</td>\n",
       "      <td>76.0</td>\n",
       "      <td>F</td>\n",
       "      <td>H</td>\n",
       "      <td>501.0</td>\n",
       "      <td>SINGLE FAMILY DWELLING</td>\n",
       "      <td>NaN</td>\n",
       "      <td>None</td>\n",
       "      <td>IC</td>\n",
       "      <td>Invest Cont</td>\n",
       "      <td>Crimes against Public Order</td>\n",
       "    </tr>\n",
       "    <tr>\n",
       "      <th>19993</th>\n",
       "      <td>DALTON                       AV</td>\n",
       "      <td>VERNON                       AV</td>\n",
       "      <td>34.003700</td>\n",
       "      <td>-118.303398</td>\n",
       "      <td>2020-02-18</td>\n",
       "      <td>2020-02-17</td>\n",
       "      <td>1800.0</td>\n",
       "      <td>3.0</td>\n",
       "      <td>Southwest</td>\n",
       "      <td>397.0</td>\n",
       "      <td>...</td>\n",
       "      <td>0.0</td>\n",
       "      <td>None</td>\n",
       "      <td>None</td>\n",
       "      <td>101.0</td>\n",
       "      <td>STREET</td>\n",
       "      <td>NaN</td>\n",
       "      <td>None</td>\n",
       "      <td>IC</td>\n",
       "      <td>Invest Cont</td>\n",
       "      <td>Property Crimes</td>\n",
       "    </tr>\n",
       "  </tbody>\n",
       "</table>\n",
       "<p>19994 rows × 22 columns</p>\n",
       "</div>"
      ],
      "text/plain": [
       "                                       Location  \\\n",
       "0       4500    CARPENTER                    AV   \n",
       "1               45TH                         ST   \n",
       "2        600 E  MARTIN LUTHER KING JR        BL   \n",
       "3      14900    ORO GRANDE                   ST   \n",
       "4       7100 S  VERMONT                      AV   \n",
       "...                                         ...   \n",
       "19989   5100 W  ADAMS                        BL   \n",
       "19990  16900    ROSCOE                       BL   \n",
       "19991   1000 S  SHENANDOAH                   ST   \n",
       "19992    300 W  SEPULVEDA                    ST   \n",
       "19993           DALTON                       AV   \n",
       "\n",
       "                          Cross_Street   Latitude   Longitude Date_Reported  \\\n",
       "0                                 None  34.152199 -118.390999    2020-03-09   \n",
       "1      ALAMEDA                      ST  34.002800 -118.239098    2020-02-27   \n",
       "2                                 None  34.011101 -118.265297    2020-08-21   \n",
       "3                                 None  34.295300 -118.459000    2020-11-08   \n",
       "4                                 None  33.978699 -118.291801    2020-02-25   \n",
       "...                                ...        ...         ...           ...   \n",
       "19989                             None  34.033401 -118.352303    2020-05-24   \n",
       "19990                             None  34.221199 -118.501099    2020-12-25   \n",
       "19991                             None  34.057098 -118.381500    2020-09-25   \n",
       "19992                             None  33.745098 -118.283501    2020-06-10   \n",
       "19993  VERNON                       AV  34.003700 -118.303398    2020-02-18   \n",
       "\n",
       "      Date_Occurred  Time_Occurred  Area_ID    Area_Name  \\\n",
       "0        2020-03-06         1800.0     15.0  N Hollywood   \n",
       "1        2020-02-27         1345.0     13.0       Newton   \n",
       "2        2020-08-21          605.0     13.0       Newton   \n",
       "3        2020-11-06         1800.0     19.0      Mission   \n",
       "4        2020-02-25         1130.0     12.0  77th Street   \n",
       "...             ...            ...      ...          ...   \n",
       "19989    2020-05-24          700.0      3.0    Southwest   \n",
       "19990    2020-12-25          259.0     10.0  West Valley   \n",
       "19991    2020-09-25         1400.0      8.0      West LA   \n",
       "19992    2020-06-10          600.0      5.0       Harbor   \n",
       "19993    2020-02-17         1800.0      3.0    Southwest   \n",
       "\n",
       "       Reporting_District_no  ...  Victim_Age Victim_Sex  Victim_Descent  \\\n",
       "0                     1563.0  ...        75.0          M               W   \n",
       "1                     1367.0  ...        41.0          M               H   \n",
       "2                     1343.0  ...        67.0          M               B   \n",
       "3                     1924.0  ...        61.0          M               H   \n",
       "4                     1245.0  ...         0.0          X               X   \n",
       "...                      ...  ...         ...        ...             ...   \n",
       "19989                  303.0  ...        51.0          M               H   \n",
       "19990                 1008.0  ...         0.0          M               W   \n",
       "19991                  849.0  ...        42.0          M               H   \n",
       "19992                  558.0  ...        76.0          F               H   \n",
       "19993                  397.0  ...         0.0       None            None   \n",
       "\n",
       "      Premise_Code     Premise_Description  Weapon_Used_Code  \\\n",
       "0            101.0                  STREET               NaN   \n",
       "1            216.0               SWAP MEET             400.0   \n",
       "2            501.0  SINGLE FAMILY DWELLING               NaN   \n",
       "3            101.0                  STREET               NaN   \n",
       "4            401.0               MINI-MART             400.0   \n",
       "...            ...                     ...               ...   \n",
       "19989        501.0  SINGLE FAMILY DWELLING             400.0   \n",
       "19990        301.0             GAS STATION               NaN   \n",
       "19991        102.0                SIDEWALK               NaN   \n",
       "19992        501.0  SINGLE FAMILY DWELLING               NaN   \n",
       "19993        101.0                  STREET               NaN   \n",
       "\n",
       "                                   Weapon_Description  Status  \\\n",
       "0                                                None      IC   \n",
       "1      STRONG-ARM (HANDS, FIST, FEET OR BODILY FORCE)      IC   \n",
       "2                                                None      IC   \n",
       "3                                                None      IC   \n",
       "4      STRONG-ARM (HANDS, FIST, FEET OR BODILY FORCE)      IC   \n",
       "...                                               ...     ...   \n",
       "19989  STRONG-ARM (HANDS, FIST, FEET OR BODILY FORCE)      IC   \n",
       "19990                                            None      IC   \n",
       "19991                                            None      IC   \n",
       "19992                                            None      IC   \n",
       "19993                                            None      IC   \n",
       "\n",
       "      Status_Description               Crime_Category  \n",
       "0            Invest Cont              Property Crimes  \n",
       "1            Invest Cont              Property Crimes  \n",
       "2            Invest Cont              Property Crimes  \n",
       "3            Invest Cont              Property Crimes  \n",
       "4            Invest Cont              Property Crimes  \n",
       "...                  ...                          ...  \n",
       "19989        Invest Cont               Violent Crimes  \n",
       "19990        Invest Cont              Property Crimes  \n",
       "19991        Invest Cont              Property Crimes  \n",
       "19992        Invest Cont  Crimes against Public Order  \n",
       "19993        Invest Cont              Property Crimes  \n",
       "\n",
       "[19994 rows x 22 columns]"
      ]
     },
     "execution_count": 98,
     "metadata": {},
     "output_type": "execute_result"
    }
   ],
   "source": [
    "engine = create_engine(\n",
    "    \"mssql+pyodbc://DESKTOP-ALEGQ73\\SQLEXPRESS/ML?driver=ODBC+Driver+17+for+SQL+Server&trusted_connection=yes\")\n",
    "train = pd.read_sql(\"SELECT * FROM train\", engine)\n",
    "train"
   ]
  },
  {
   "cell_type": "code",
   "execution_count": 99,
   "id": "18f47e7a-2f75-4ef1-b48b-b5e657ae70be",
   "metadata": {},
   "outputs": [
    {
     "data": {
      "text/html": [
       "<div>\n",
       "<style scoped>\n",
       "    .dataframe tbody tr th:only-of-type {\n",
       "        vertical-align: middle;\n",
       "    }\n",
       "\n",
       "    .dataframe tbody tr th {\n",
       "        vertical-align: top;\n",
       "    }\n",
       "\n",
       "    .dataframe thead th {\n",
       "        text-align: right;\n",
       "    }\n",
       "</style>\n",
       "<table border=\"1\" class=\"dataframe\">\n",
       "  <thead>\n",
       "    <tr style=\"text-align: right;\">\n",
       "      <th></th>\n",
       "      <th>Location</th>\n",
       "      <th>Cross_Street</th>\n",
       "      <th>Latitude</th>\n",
       "      <th>Longitude</th>\n",
       "      <th>Date_Reported</th>\n",
       "      <th>Date_Occurred</th>\n",
       "      <th>Time_Occurred</th>\n",
       "      <th>Area_ID</th>\n",
       "      <th>Area_Name</th>\n",
       "      <th>Reporting_District_no</th>\n",
       "      <th>...</th>\n",
       "      <th>Modus_Operandi</th>\n",
       "      <th>Victim_Age</th>\n",
       "      <th>Victim_Sex</th>\n",
       "      <th>Victim_Descent</th>\n",
       "      <th>Premise_Code</th>\n",
       "      <th>Premise_Description</th>\n",
       "      <th>Weapon_Used_Code</th>\n",
       "      <th>Weapon_Description</th>\n",
       "      <th>Status</th>\n",
       "      <th>Status_Description</th>\n",
       "    </tr>\n",
       "  </thead>\n",
       "  <tbody>\n",
       "    <tr>\n",
       "      <th>0</th>\n",
       "      <td>1500    LEIGHTON                     AV</td>\n",
       "      <td>NaN</td>\n",
       "      <td>34.0128</td>\n",
       "      <td>-118.3045</td>\n",
       "      <td>03/03/2020 12:00:00 AM</td>\n",
       "      <td>03/03/2020 12:00:00 AM</td>\n",
       "      <td>2000.0</td>\n",
       "      <td>3.0</td>\n",
       "      <td>Southwest</td>\n",
       "      <td>376.0</td>\n",
       "      <td>...</td>\n",
       "      <td>0416 1241 1243 1813 1821 2000</td>\n",
       "      <td>28.0</td>\n",
       "      <td>F</td>\n",
       "      <td>H</td>\n",
       "      <td>501.0</td>\n",
       "      <td>SINGLE FAMILY DWELLING</td>\n",
       "      <td>400.0</td>\n",
       "      <td>STRONG-ARM (HANDS, FIST, FEET OR BODILY FORCE)</td>\n",
       "      <td>IC</td>\n",
       "      <td>Invest Cont</td>\n",
       "    </tr>\n",
       "    <tr>\n",
       "      <th>1</th>\n",
       "      <td>100 S  NORMANDIE                    AV</td>\n",
       "      <td>NaN</td>\n",
       "      <td>34.0726</td>\n",
       "      <td>-118.3029</td>\n",
       "      <td>06/01/2020 12:00:00 AM</td>\n",
       "      <td>04/25/2020 12:00:00 AM</td>\n",
       "      <td>1700.0</td>\n",
       "      <td>20.0</td>\n",
       "      <td>Olympic</td>\n",
       "      <td>2014.0</td>\n",
       "      <td>...</td>\n",
       "      <td>0344 0394</td>\n",
       "      <td>26.0</td>\n",
       "      <td>M</td>\n",
       "      <td>B</td>\n",
       "      <td>502.0</td>\n",
       "      <td>MULTI-UNIT DWELLING (APARTMENT, DUPLEX, ETC)</td>\n",
       "      <td>NaN</td>\n",
       "      <td>NaN</td>\n",
       "      <td>IC</td>\n",
       "      <td>Invest Cont</td>\n",
       "    </tr>\n",
       "    <tr>\n",
       "      <th>2</th>\n",
       "      <td>300 E  111TH                        ST</td>\n",
       "      <td>NaN</td>\n",
       "      <td>33.9348</td>\n",
       "      <td>-118.2695</td>\n",
       "      <td>08/28/2020 12:00:00 AM</td>\n",
       "      <td>08/27/2020 12:00:00 AM</td>\n",
       "      <td>900.0</td>\n",
       "      <td>18.0</td>\n",
       "      <td>Southeast</td>\n",
       "      <td>1844.0</td>\n",
       "      <td>...</td>\n",
       "      <td>1822 0701 1914 0355 1202 0100</td>\n",
       "      <td>62.0</td>\n",
       "      <td>F</td>\n",
       "      <td>B</td>\n",
       "      <td>721.0</td>\n",
       "      <td>HIGH SCHOOL</td>\n",
       "      <td>NaN</td>\n",
       "      <td>NaN</td>\n",
       "      <td>IC</td>\n",
       "      <td>Invest Cont</td>\n",
       "    </tr>\n",
       "    <tr>\n",
       "      <th>3</th>\n",
       "      <td>1300 S  LA BREA                      AV</td>\n",
       "      <td>NaN</td>\n",
       "      <td>34.0497</td>\n",
       "      <td>-118.3442</td>\n",
       "      <td>12/23/2020 12:00:00 AM</td>\n",
       "      <td>12/03/2020 12:00:00 AM</td>\n",
       "      <td>2200.0</td>\n",
       "      <td>7.0</td>\n",
       "      <td>Wilshire</td>\n",
       "      <td>765.0</td>\n",
       "      <td>...</td>\n",
       "      <td>NaN</td>\n",
       "      <td>0.0</td>\n",
       "      <td>NaN</td>\n",
       "      <td>NaN</td>\n",
       "      <td>108.0</td>\n",
       "      <td>PARKING LOT</td>\n",
       "      <td>NaN</td>\n",
       "      <td>NaN</td>\n",
       "      <td>IC</td>\n",
       "      <td>Invest Cont</td>\n",
       "    </tr>\n",
       "    <tr>\n",
       "      <th>4</th>\n",
       "      <td>11000    MORRISON                     ST</td>\n",
       "      <td>NaN</td>\n",
       "      <td>34.1611</td>\n",
       "      <td>-118.3704</td>\n",
       "      <td>08/30/2020 12:00:00 AM</td>\n",
       "      <td>08/29/2020 12:00:00 AM</td>\n",
       "      <td>130.0</td>\n",
       "      <td>15.0</td>\n",
       "      <td>N Hollywood</td>\n",
       "      <td>1555.0</td>\n",
       "      <td>...</td>\n",
       "      <td>1501</td>\n",
       "      <td>37.0</td>\n",
       "      <td>F</td>\n",
       "      <td>W</td>\n",
       "      <td>501.0</td>\n",
       "      <td>SINGLE FAMILY DWELLING</td>\n",
       "      <td>NaN</td>\n",
       "      <td>NaN</td>\n",
       "      <td>AO</td>\n",
       "      <td>Adult Other</td>\n",
       "    </tr>\n",
       "    <tr>\n",
       "      <th>...</th>\n",
       "      <td>...</td>\n",
       "      <td>...</td>\n",
       "      <td>...</td>\n",
       "      <td>...</td>\n",
       "      <td>...</td>\n",
       "      <td>...</td>\n",
       "      <td>...</td>\n",
       "      <td>...</td>\n",
       "      <td>...</td>\n",
       "      <td>...</td>\n",
       "      <td>...</td>\n",
       "      <td>...</td>\n",
       "      <td>...</td>\n",
       "      <td>...</td>\n",
       "      <td>...</td>\n",
       "      <td>...</td>\n",
       "      <td>...</td>\n",
       "      <td>...</td>\n",
       "      <td>...</td>\n",
       "      <td>...</td>\n",
       "      <td>...</td>\n",
       "    </tr>\n",
       "    <tr>\n",
       "      <th>4995</th>\n",
       "      <td>4600    MASCOT                       ST</td>\n",
       "      <td>NaN</td>\n",
       "      <td>34.0409</td>\n",
       "      <td>-118.3408</td>\n",
       "      <td>06/05/2020 12:00:00 AM</td>\n",
       "      <td>06/04/2020 12:00:00 AM</td>\n",
       "      <td>2100.0</td>\n",
       "      <td>7.0</td>\n",
       "      <td>Wilshire</td>\n",
       "      <td>775.0</td>\n",
       "      <td>...</td>\n",
       "      <td>NaN</td>\n",
       "      <td>0.0</td>\n",
       "      <td>NaN</td>\n",
       "      <td>NaN</td>\n",
       "      <td>101.0</td>\n",
       "      <td>STREET</td>\n",
       "      <td>NaN</td>\n",
       "      <td>NaN</td>\n",
       "      <td>IC</td>\n",
       "      <td>Invest Cont</td>\n",
       "    </tr>\n",
       "    <tr>\n",
       "      <th>4996</th>\n",
       "      <td>2200 E  7TH                          ST</td>\n",
       "      <td>NaN</td>\n",
       "      <td>34.0347</td>\n",
       "      <td>-118.2253</td>\n",
       "      <td>12/02/2020 12:00:00 AM</td>\n",
       "      <td>11/25/2020 12:00:00 AM</td>\n",
       "      <td>1530.0</td>\n",
       "      <td>4.0</td>\n",
       "      <td>Hollenbeck</td>\n",
       "      <td>471.0</td>\n",
       "      <td>...</td>\n",
       "      <td>1300 0325</td>\n",
       "      <td>0.0</td>\n",
       "      <td>X</td>\n",
       "      <td>X</td>\n",
       "      <td>116.0</td>\n",
       "      <td>OTHER/OUTSIDE</td>\n",
       "      <td>NaN</td>\n",
       "      <td>NaN</td>\n",
       "      <td>IC</td>\n",
       "      <td>Invest Cont</td>\n",
       "    </tr>\n",
       "    <tr>\n",
       "      <th>4997</th>\n",
       "      <td>LANGDON                      AV</td>\n",
       "      <td>TUPPER                       ST</td>\n",
       "      <td>34.2392</td>\n",
       "      <td>-118.4698</td>\n",
       "      <td>11/21/2020 12:00:00 AM</td>\n",
       "      <td>11/21/2020 12:00:00 AM</td>\n",
       "      <td>2100.0</td>\n",
       "      <td>19.0</td>\n",
       "      <td>Mission</td>\n",
       "      <td>1961.0</td>\n",
       "      <td>...</td>\n",
       "      <td>0913 1817 0416</td>\n",
       "      <td>38.0</td>\n",
       "      <td>M</td>\n",
       "      <td>H</td>\n",
       "      <td>101.0</td>\n",
       "      <td>STREET</td>\n",
       "      <td>400.0</td>\n",
       "      <td>STRONG-ARM (HANDS, FIST, FEET OR BODILY FORCE)</td>\n",
       "      <td>AA</td>\n",
       "      <td>Adult Arrest</td>\n",
       "    </tr>\n",
       "    <tr>\n",
       "      <th>4998</th>\n",
       "      <td>400 E  5TH                          ST</td>\n",
       "      <td>NaN</td>\n",
       "      <td>34.0453</td>\n",
       "      <td>-118.2443</td>\n",
       "      <td>03/01/2020 12:00:00 AM</td>\n",
       "      <td>02/29/2020 12:00:00 AM</td>\n",
       "      <td>2335.0</td>\n",
       "      <td>1.0</td>\n",
       "      <td>Central</td>\n",
       "      <td>147.0</td>\n",
       "      <td>...</td>\n",
       "      <td>0416</td>\n",
       "      <td>41.0</td>\n",
       "      <td>M</td>\n",
       "      <td>B</td>\n",
       "      <td>502.0</td>\n",
       "      <td>MULTI-UNIT DWELLING (APARTMENT, DUPLEX, ETC)</td>\n",
       "      <td>500.0</td>\n",
       "      <td>UNKNOWN WEAPON/OTHER WEAPON</td>\n",
       "      <td>AO</td>\n",
       "      <td>Adult Other</td>\n",
       "    </tr>\n",
       "    <tr>\n",
       "      <th>4999</th>\n",
       "      <td>10100 S  SAN PEDRO                    ST</td>\n",
       "      <td>NaN</td>\n",
       "      <td>33.9438</td>\n",
       "      <td>-118.2695</td>\n",
       "      <td>10/09/2020 12:00:00 AM</td>\n",
       "      <td>10/09/2020 12:00:00 AM</td>\n",
       "      <td>320.0</td>\n",
       "      <td>18.0</td>\n",
       "      <td>Southeast</td>\n",
       "      <td>1823.0</td>\n",
       "      <td>...</td>\n",
       "      <td>1822 0329</td>\n",
       "      <td>49.0</td>\n",
       "      <td>M</td>\n",
       "      <td>B</td>\n",
       "      <td>122.0</td>\n",
       "      <td>VEHICLE, PASSENGER/TRUCK</td>\n",
       "      <td>NaN</td>\n",
       "      <td>NaN</td>\n",
       "      <td>IC</td>\n",
       "      <td>Invest Cont</td>\n",
       "    </tr>\n",
       "  </tbody>\n",
       "</table>\n",
       "<p>5000 rows × 21 columns</p>\n",
       "</div>"
      ],
      "text/plain": [
       "                                      Location  \\\n",
       "0      1500    LEIGHTON                     AV   \n",
       "1       100 S  NORMANDIE                    AV   \n",
       "2       300 E  111TH                        ST   \n",
       "3      1300 S  LA BREA                      AV   \n",
       "4     11000    MORRISON                     ST   \n",
       "...                                        ...   \n",
       "4995   4600    MASCOT                       ST   \n",
       "4996   2200 E  7TH                          ST   \n",
       "4997           LANGDON                      AV   \n",
       "4998    400 E  5TH                          ST   \n",
       "4999  10100 S  SAN PEDRO                    ST   \n",
       "\n",
       "                         Cross_Street  Latitude  Longitude  \\\n",
       "0                                 NaN   34.0128  -118.3045   \n",
       "1                                 NaN   34.0726  -118.3029   \n",
       "2                                 NaN   33.9348  -118.2695   \n",
       "3                                 NaN   34.0497  -118.3442   \n",
       "4                                 NaN   34.1611  -118.3704   \n",
       "...                               ...       ...        ...   \n",
       "4995                              NaN   34.0409  -118.3408   \n",
       "4996                              NaN   34.0347  -118.2253   \n",
       "4997  TUPPER                       ST   34.2392  -118.4698   \n",
       "4998                              NaN   34.0453  -118.2443   \n",
       "4999                              NaN   33.9438  -118.2695   \n",
       "\n",
       "               Date_Reported           Date_Occurred  Time_Occurred  Area_ID  \\\n",
       "0     03/03/2020 12:00:00 AM  03/03/2020 12:00:00 AM         2000.0      3.0   \n",
       "1     06/01/2020 12:00:00 AM  04/25/2020 12:00:00 AM         1700.0     20.0   \n",
       "2     08/28/2020 12:00:00 AM  08/27/2020 12:00:00 AM          900.0     18.0   \n",
       "3     12/23/2020 12:00:00 AM  12/03/2020 12:00:00 AM         2200.0      7.0   \n",
       "4     08/30/2020 12:00:00 AM  08/29/2020 12:00:00 AM          130.0     15.0   \n",
       "...                      ...                     ...            ...      ...   \n",
       "4995  06/05/2020 12:00:00 AM  06/04/2020 12:00:00 AM         2100.0      7.0   \n",
       "4996  12/02/2020 12:00:00 AM  11/25/2020 12:00:00 AM         1530.0      4.0   \n",
       "4997  11/21/2020 12:00:00 AM  11/21/2020 12:00:00 AM         2100.0     19.0   \n",
       "4998  03/01/2020 12:00:00 AM  02/29/2020 12:00:00 AM         2335.0      1.0   \n",
       "4999  10/09/2020 12:00:00 AM  10/09/2020 12:00:00 AM          320.0     18.0   \n",
       "\n",
       "        Area_Name  Reporting_District_no  ...                 Modus_Operandi  \\\n",
       "0       Southwest                  376.0  ...  0416 1241 1243 1813 1821 2000   \n",
       "1         Olympic                 2014.0  ...                      0344 0394   \n",
       "2       Southeast                 1844.0  ...  1822 0701 1914 0355 1202 0100   \n",
       "3        Wilshire                  765.0  ...                            NaN   \n",
       "4     N Hollywood                 1555.0  ...                           1501   \n",
       "...           ...                    ...  ...                            ...   \n",
       "4995     Wilshire                  775.0  ...                            NaN   \n",
       "4996   Hollenbeck                  471.0  ...                      1300 0325   \n",
       "4997      Mission                 1961.0  ...                 0913 1817 0416   \n",
       "4998      Central                  147.0  ...                           0416   \n",
       "4999    Southeast                 1823.0  ...                      1822 0329   \n",
       "\n",
       "     Victim_Age  Victim_Sex Victim_Descent Premise_Code  \\\n",
       "0          28.0           F              H        501.0   \n",
       "1          26.0           M              B        502.0   \n",
       "2          62.0           F              B        721.0   \n",
       "3           0.0         NaN            NaN        108.0   \n",
       "4          37.0           F              W        501.0   \n",
       "...         ...         ...            ...          ...   \n",
       "4995        0.0         NaN            NaN        101.0   \n",
       "4996        0.0           X              X        116.0   \n",
       "4997       38.0           M              H        101.0   \n",
       "4998       41.0           M              B        502.0   \n",
       "4999       49.0           M              B        122.0   \n",
       "\n",
       "                               Premise_Description Weapon_Used_Code  \\\n",
       "0                           SINGLE FAMILY DWELLING            400.0   \n",
       "1     MULTI-UNIT DWELLING (APARTMENT, DUPLEX, ETC)              NaN   \n",
       "2                                      HIGH SCHOOL              NaN   \n",
       "3                                      PARKING LOT              NaN   \n",
       "4                           SINGLE FAMILY DWELLING              NaN   \n",
       "...                                            ...              ...   \n",
       "4995                                        STREET              NaN   \n",
       "4996                                 OTHER/OUTSIDE              NaN   \n",
       "4997                                        STREET            400.0   \n",
       "4998  MULTI-UNIT DWELLING (APARTMENT, DUPLEX, ETC)            500.0   \n",
       "4999                      VEHICLE, PASSENGER/TRUCK              NaN   \n",
       "\n",
       "                                  Weapon_Description Status Status_Description  \n",
       "0     STRONG-ARM (HANDS, FIST, FEET OR BODILY FORCE)     IC        Invest Cont  \n",
       "1                                                NaN     IC        Invest Cont  \n",
       "2                                                NaN     IC        Invest Cont  \n",
       "3                                                NaN     IC        Invest Cont  \n",
       "4                                                NaN     AO        Adult Other  \n",
       "...                                              ...    ...                ...  \n",
       "4995                                             NaN     IC        Invest Cont  \n",
       "4996                                             NaN     IC        Invest Cont  \n",
       "4997  STRONG-ARM (HANDS, FIST, FEET OR BODILY FORCE)     AA       Adult Arrest  \n",
       "4998                     UNKNOWN WEAPON/OTHER WEAPON     AO        Adult Other  \n",
       "4999                                             NaN     IC        Invest Cont  \n",
       "\n",
       "[5000 rows x 21 columns]"
      ]
     },
     "execution_count": 99,
     "metadata": {},
     "output_type": "execute_result"
    }
   ],
   "source": [
    "test=pd.read_csv(r\"C:\\Users\\user\\Downloads\\Crimecategorydata\\test.csv\")\n",
    "test"
   ]
  },
  {
   "cell_type": "markdown",
   "id": "34aacec4-ed30-437d-8e76-be3a94730d26",
   "metadata": {},
   "source": [
    "### Data Cleaning and EDA"
   ]
  },
  {
   "cell_type": "code",
   "execution_count": 100,
   "id": "679214dc-a16c-49e0-b9d6-6ecb9dedc594",
   "metadata": {},
   "outputs": [
    {
     "name": "stdout",
     "output_type": "stream",
     "text": [
      "<class 'pandas.core.frame.DataFrame'>\n",
      "RangeIndex: 19994 entries, 0 to 19993\n",
      "Data columns (total 22 columns):\n",
      " #   Column                 Non-Null Count  Dtype         \n",
      "---  ------                 --------------  -----         \n",
      " 0   Location               19994 non-null  object        \n",
      " 1   Cross_Street           3448 non-null   object        \n",
      " 2   Latitude               19994 non-null  float64       \n",
      " 3   Longitude              19916 non-null  float64       \n",
      " 4   Date_Reported          19994 non-null  datetime64[ns]\n",
      " 5   Date_Occurred          19994 non-null  datetime64[ns]\n",
      " 6   Time_Occurred          19994 non-null  float64       \n",
      " 7   Area_ID                19994 non-null  float64       \n",
      " 8   Area_Name              19994 non-null  object        \n",
      " 9   Reporting_District_no  19994 non-null  float64       \n",
      " 10  Part_1_2               19994 non-null  float64       \n",
      " 11  Modus_Operandi         17253 non-null  object        \n",
      " 12  Victim_Age             19994 non-null  float64       \n",
      " 13  Victim_Sex             17370 non-null  object        \n",
      " 14  Victim_Descent         17370 non-null  object        \n",
      " 15  Premise_Code           19994 non-null  float64       \n",
      " 16  Premise_Description    19989 non-null  object        \n",
      " 17  Weapon_Used_Code       7334 non-null   float64       \n",
      " 18  Weapon_Description     7334 non-null   object        \n",
      " 19  Status                 19994 non-null  object        \n",
      " 20  Status_Description     19994 non-null  object        \n",
      " 21  Crime_Category         19994 non-null  object        \n",
      "dtypes: datetime64[ns](2), float64(9), object(11)\n",
      "memory usage: 3.4+ MB\n"
     ]
    }
   ],
   "source": [
    "train.info()"
   ]
  },
  {
   "cell_type": "code",
   "execution_count": 101,
   "id": "25badff6-b074-4a6c-b1b4-0bd51feab37e",
   "metadata": {},
   "outputs": [
    {
     "name": "stdout",
     "output_type": "stream",
     "text": [
      "<class 'pandas.core.frame.DataFrame'>\n",
      "RangeIndex: 5000 entries, 0 to 4999\n",
      "Data columns (total 21 columns):\n",
      " #   Column                 Non-Null Count  Dtype  \n",
      "---  ------                 --------------  -----  \n",
      " 0   Location               5000 non-null   object \n",
      " 1   Cross_Street           810 non-null    object \n",
      " 2   Latitude               5000 non-null   float64\n",
      " 3   Longitude              5000 non-null   float64\n",
      " 4   Date_Reported          5000 non-null   object \n",
      " 5   Date_Occurred          5000 non-null   object \n",
      " 6   Time_Occurred          5000 non-null   float64\n",
      " 7   Area_ID                5000 non-null   float64\n",
      " 8   Area_Name              5000 non-null   object \n",
      " 9   Reporting_District_no  5000 non-null   float64\n",
      " 10  Part 1-2               5000 non-null   float64\n",
      " 11  Modus_Operandi         4316 non-null   object \n",
      " 12  Victim_Age             5000 non-null   float64\n",
      " 13  Victim_Sex             4357 non-null   object \n",
      " 14  Victim_Descent         4357 non-null   object \n",
      " 15  Premise_Code           5000 non-null   float64\n",
      " 16  Premise_Description    4999 non-null   object \n",
      " 17  Weapon_Used_Code       1847 non-null   float64\n",
      " 18  Weapon_Description     1847 non-null   object \n",
      " 19  Status                 5000 non-null   object \n",
      " 20  Status_Description     5000 non-null   object \n",
      "dtypes: float64(9), object(12)\n",
      "memory usage: 820.4+ KB\n"
     ]
    }
   ],
   "source": [
    "test.info()"
   ]
  },
  {
   "cell_type": "code",
   "execution_count": 102,
   "id": "32b13125-14d0-4ce9-8b7d-5874b7ffb235",
   "metadata": {},
   "outputs": [
    {
     "name": "stderr",
     "output_type": "stream",
     "text": [
      "C:\\Users\\user\\AppData\\Local\\Temp\\ipykernel_11308\\2891114524.py:1: UserWarning: Could not infer format, so each element will be parsed individually, falling back to `dateutil`. To ensure parsing is consistent and as-expected, please specify a format.\n",
      "  test.Date_Occurred=pd.to_datetime(test.Date_Occurred)\n"
     ]
    }
   ],
   "source": [
    "#changing date data types\n",
    "test.Date_Occurred=pd.to_datetime(test.Date_Occurred)"
   ]
  },
  {
   "cell_type": "code",
   "execution_count": 103,
   "id": "51c48e5c-cf5c-41f2-b2f4-65c5052319bb",
   "metadata": {},
   "outputs": [
    {
     "data": {
      "text/plain": [
       "0      2020-03-03\n",
       "1      2020-04-25\n",
       "2      2020-08-27\n",
       "3      2020-12-03\n",
       "4      2020-08-29\n",
       "          ...    \n",
       "4995   2020-06-04\n",
       "4996   2020-11-25\n",
       "4997   2020-11-21\n",
       "4998   2020-02-29\n",
       "4999   2020-10-09\n",
       "Name: Date_Occurred, Length: 5000, dtype: datetime64[ns]"
      ]
     },
     "execution_count": 103,
     "metadata": {},
     "output_type": "execute_result"
    }
   ],
   "source": [
    "test.Date_Occurred"
   ]
  },
  {
   "cell_type": "code",
   "execution_count": 104,
   "id": "96dc419f-d753-4e68-974f-121c21609f2a",
   "metadata": {},
   "outputs": [
    {
     "name": "stderr",
     "output_type": "stream",
     "text": [
      "C:\\Users\\user\\AppData\\Local\\Temp\\ipykernel_11308\\1527674809.py:1: UserWarning: Could not infer format, so each element will be parsed individually, falling back to `dateutil`. To ensure parsing is consistent and as-expected, please specify a format.\n",
      "  test.Date_Reported=pd.to_datetime(test.Date_Reported)\n"
     ]
    }
   ],
   "source": [
    "test.Date_Reported=pd.to_datetime(test.Date_Reported)"
   ]
  },
  {
   "cell_type": "code",
   "execution_count": 105,
   "id": "126cb004-469f-4fa9-91d0-5519ad4c6c46",
   "metadata": {},
   "outputs": [
    {
     "name": "stdout",
     "output_type": "stream",
     "text": [
      "<class 'pandas.core.frame.DataFrame'>\n",
      "RangeIndex: 5000 entries, 0 to 4999\n",
      "Data columns (total 21 columns):\n",
      " #   Column                 Non-Null Count  Dtype         \n",
      "---  ------                 --------------  -----         \n",
      " 0   Location               5000 non-null   object        \n",
      " 1   Cross_Street           810 non-null    object        \n",
      " 2   Latitude               5000 non-null   float64       \n",
      " 3   Longitude              5000 non-null   float64       \n",
      " 4   Date_Reported          5000 non-null   datetime64[ns]\n",
      " 5   Date_Occurred          5000 non-null   datetime64[ns]\n",
      " 6   Time_Occurred          5000 non-null   float64       \n",
      " 7   Area_ID                5000 non-null   float64       \n",
      " 8   Area_Name              5000 non-null   object        \n",
      " 9   Reporting_District_no  5000 non-null   float64       \n",
      " 10  Part 1-2               5000 non-null   float64       \n",
      " 11  Modus_Operandi         4316 non-null   object        \n",
      " 12  Victim_Age             5000 non-null   float64       \n",
      " 13  Victim_Sex             4357 non-null   object        \n",
      " 14  Victim_Descent         4357 non-null   object        \n",
      " 15  Premise_Code           5000 non-null   float64       \n",
      " 16  Premise_Description    4999 non-null   object        \n",
      " 17  Weapon_Used_Code       1847 non-null   float64       \n",
      " 18  Weapon_Description     1847 non-null   object        \n",
      " 19  Status                 5000 non-null   object        \n",
      " 20  Status_Description     5000 non-null   object        \n",
      "dtypes: datetime64[ns](2), float64(9), object(10)\n",
      "memory usage: 820.4+ KB\n"
     ]
    }
   ],
   "source": [
    "test.info()"
   ]
  },
  {
   "cell_type": "code",
   "execution_count": null,
   "id": "78065417-4101-43ef-8584-87b18a988665",
   "metadata": {},
   "outputs": [],
   "source": [
    "#renaming column\n",
    "test.rename(columns={'Part 1-2':'Part_1_2'}, inplace=True)"
   ]
  },
  {
   "cell_type": "code",
   "execution_count": 106,
   "id": "d34888ba-5b55-4217-9931-7a0913d99fd6",
   "metadata": {
    "scrolled": true
   },
   "outputs": [
    {
     "data": {
      "text/plain": [
       "Location                     0\n",
       "Cross_Street             16546\n",
       "Latitude                     0\n",
       "Longitude                   78\n",
       "Date_Reported                0\n",
       "Date_Occurred                0\n",
       "Time_Occurred                0\n",
       "Area_ID                      0\n",
       "Area_Name                    0\n",
       "Reporting_District_no        0\n",
       "Part_1_2                     0\n",
       "Modus_Operandi            2741\n",
       "Victim_Age                   0\n",
       "Victim_Sex                2624\n",
       "Victim_Descent            2624\n",
       "Premise_Code                 0\n",
       "Premise_Description          5\n",
       "Weapon_Used_Code         12660\n",
       "Weapon_Description       12660\n",
       "Status                       0\n",
       "Status_Description           0\n",
       "Crime_Category               0\n",
       "dtype: int64"
      ]
     },
     "execution_count": 106,
     "metadata": {},
     "output_type": "execute_result"
    }
   ],
   "source": [
    "#Checking nulls\n",
    "train.isna().sum()"
   ]
  },
  {
   "cell_type": "code",
   "execution_count": 107,
   "id": "d0ca346c-bfd0-4326-a54f-b26f4150f167",
   "metadata": {},
   "outputs": [
    {
     "data": {
      "text/plain": [
       "0.8275482644793438"
      ]
     },
     "execution_count": 107,
     "metadata": {},
     "output_type": "execute_result"
    }
   ],
   "source": [
    "#High % of nulls in few columns\n",
    "train.Cross_Street.isna().sum()/train.Cross_Street.isna().count()"
   ]
  },
  {
   "cell_type": "code",
   "execution_count": 108,
   "id": "80325c9e-74c7-4474-a585-cc561ba6cd24",
   "metadata": {},
   "outputs": [
    {
     "data": {
      "text/plain": [
       "0.6331899569870961"
      ]
     },
     "execution_count": 108,
     "metadata": {},
     "output_type": "execute_result"
    }
   ],
   "source": [
    "train.Weapon_Used_Code.isna().sum()/train.Weapon_Used_Code.isna().count()"
   ]
  },
  {
   "cell_type": "code",
   "execution_count": 109,
   "id": "d7fdfa6c-9b42-4c36-b87d-cf7b051a993e",
   "metadata": {},
   "outputs": [
    {
     "data": {
      "text/plain": [
       "0.6331899569870961"
      ]
     },
     "execution_count": 109,
     "metadata": {},
     "output_type": "execute_result"
    }
   ],
   "source": [
    "train.Weapon_Description.isna().sum()/train.Weapon_Description.isna().count()"
   ]
  },
  {
   "cell_type": "code",
   "execution_count": 110,
   "id": "e5147da8-d7c3-475f-9f51-bfe56c02a8be",
   "metadata": {},
   "outputs": [],
   "source": [
    "#Dropping columns with very high null count\n",
    "train.drop(columns='Cross_Street', inplace=True)\n",
    "test.drop(columns='Cross_Street', inplace=True)"
   ]
  },
  {
   "cell_type": "code",
   "execution_count": null,
   "id": "4acbc1b2-b56f-4383-856b-74e69aaf8e4f",
   "metadata": {},
   "outputs": [],
   "source": [
    "#weapon related columns were not removed because of their importance in model prediction."
   ]
  },
  {
   "cell_type": "code",
   "execution_count": 111,
   "id": "3912f352-b4f6-4725-85b0-fb253915ab78",
   "metadata": {
    "scrolled": true
   },
   "outputs": [
    {
     "name": "stdout",
     "output_type": "stream",
     "text": [
      "Location\n",
      "6TH                                        33\n",
      "7TH                                        32\n",
      "6TH                          ST            31\n",
      "VERMONT                      AV            31\n",
      "7TH                          ST            30\n",
      "                                           ..\n",
      "MCKINLEY                                    1\n",
      "WADE                         ST             1\n",
      "7500    WINNETKA                     AV     1\n",
      "9600    ONEAL                        CT     1\n",
      "DALTON                       AV             1\n",
      "Name: count, Length: 12396, dtype: int64\n",
      "Area_Name\n",
      "77th Street    1345\n",
      "Pacific        1156\n",
      "Central        1156\n",
      "Southwest      1130\n",
      "Southeast      1067\n",
      "N Hollywood    1065\n",
      "Hollywood      1013\n",
      "Newton          999\n",
      "Olympic         960\n",
      "Wilshire        943\n",
      "Rampart         931\n",
      "West LA         909\n",
      "Van Nuys        901\n",
      "Harbor          872\n",
      "Mission         870\n",
      "Northeast       839\n",
      "Topanga         792\n",
      "West Valley     789\n",
      "Devonshire      768\n",
      "Hollenbeck      755\n",
      "Foothill        734\n",
      "Name: count, dtype: int64\n",
      "Modus_Operandi\n",
      "0344                                       824\n",
      "0329                                       583\n",
      "1501                                       187\n",
      "0329 1300                                  135\n",
      "0325                                       127\n",
      "                                          ... \n",
      "0344 2050 0910 2034                          1\n",
      "0400 2000 0913                               1\n",
      "1822 0342 0910 2049 2051 0305 0444 0344      1\n",
      "0416 2000 1813                               1\n",
      "1202 2038 0913 0602 1242 0553                1\n",
      "Name: count, Length: 10486, dtype: int64\n",
      "Victim_Sex\n",
      "M    8536\n",
      "F    7175\n",
      "X    1657\n",
      "H       2\n",
      "Name: count, dtype: int64\n",
      "Victim_Descent\n",
      "H    6143\n",
      "W    4243\n",
      "B    2881\n",
      "X    1846\n",
      "O    1602\n",
      "A     427\n",
      "K      83\n",
      "C      51\n",
      "F      48\n",
      "J      16\n",
      "I      11\n",
      "V       8\n",
      "P       4\n",
      "Z       3\n",
      "U       2\n",
      "D       1\n",
      "G       1\n",
      "Name: count, dtype: int64\n",
      "Premise_Description\n",
      "STREET                                          5033\n",
      "SINGLE FAMILY DWELLING                          3377\n",
      "MULTI-UNIT DWELLING (APARTMENT, DUPLEX, ETC)    2491\n",
      "PARKING LOT                                     1437\n",
      "SIDEWALK                                         978\n",
      "                                                ... \n",
      "BUS DEPOT/TERMINAL, OTHER THAN MTA                 1\n",
      "MTA - RED LINE - HOLLYWOOD/WESTERN                 1\n",
      "MTA - SILVER LINE - ROSECRANS                      1\n",
      "HIGH-RISE BUILDING                                 1\n",
      "COMPUTER SERVICES/REPAIRS/SALES                    1\n",
      "Name: count, Length: 216, dtype: int64\n",
      "Weapon_Description\n",
      "STRONG-ARM (HANDS, FIST, FEET OR BODILY FORCE)    3990\n",
      "UNKNOWN WEAPON/OTHER WEAPON                        788\n",
      "VERBAL THREAT                                      546\n",
      "HAND GUN                                           388\n",
      "KNIFE WITH BLADE 6INCHES OR LESS                   160\n",
      "SEMI-AUTOMATIC PISTOL                              154\n",
      "UNKNOWN FIREARM                                    131\n",
      "OTHER KNIFE                                        125\n",
      "VEHICLE                                             84\n",
      "MACE/PEPPER SPRAY                                   80\n",
      "ROCK/THROWN OBJECT                                  63\n",
      "BOTTLE                                              55\n",
      "PIPE/METAL PIPE                                     52\n",
      "CLUB/BAT                                            51\n",
      "STICK                                               49\n",
      "KITCHEN KNIFE                                       45\n",
      "KNIFE WITH BLADE OVER 6 INCHES IN LENGTH            43\n",
      "AIR PISTOL/REVOLVER/RIFLE/BB GUN                    41\n",
      "FOLDING KNIFE                                       37\n",
      "BLUNT INSTRUMENT                                    37\n",
      "SIMULATED GUN                                       35\n",
      "REVOLVER                                            34\n",
      "BELT FLAILING INSTRUMENT/CHAIN                      26\n",
      "CONCRETE BLOCK/BRICK                                26\n",
      "MACHETE                                             25\n",
      "UNKNOWN TYPE CUTTING INSTRUMENT                     24\n",
      "HAMMER                                              23\n",
      "SCREWDRIVER                                         23\n",
      "FIRE                                                22\n",
      "OTHER FIREARM                                       18\n",
      "PHYSICAL PRESENCE                                   18\n",
      "OTHER CUTTING INSTRUMENT                            17\n",
      "FIXED OBJECT                                        16\n",
      "GLASS                                               14\n",
      "SCISSORS                                            13\n",
      "RIFLE                                               12\n",
      "BOARD                                               11\n",
      "TOY GUN                                              8\n",
      "SHOTGUN                                              7\n",
      "TIRE IRON                                            7\n",
      "AXE                                                  6\n",
      "STUN GUN                                             4\n",
      "BRASS KNUCKLES                                       4\n",
      "SCALDING LIQUID                                      3\n",
      "SWITCH BLADE                                         3\n",
      "MARTIAL ARTS WEAPONS                                 2\n",
      "DEMAND NOTE                                          2\n",
      "SAWED OFF RIFLE/SHOTGUN                              2\n",
      "ICE PICK                                             2\n",
      "CAUSTIC CHEMICAL/POISON                              1\n",
      "BOMB THREAT                                          1\n",
      "BOWIE KNIFE                                          1\n",
      "STARTER PISTOL/REVOLVER                              1\n",
      "RAZOR BLADE                                          1\n",
      "HECKLER & KOCH 93 SEMIAUTOMATIC ASSAULT RIFLE        1\n",
      "ASSAULT WEAPON/UZI/AK47/ETC                          1\n",
      "CLEAVER                                              1\n",
      "Name: count, dtype: int64\n",
      "Status\n",
      "IC    15230\n",
      "AO     2597\n",
      "AA     2054\n",
      "JA       70\n",
      "JO       43\n",
      "Name: count, dtype: int64\n",
      "Status_Description\n",
      "Invest Cont     15230\n",
      "Adult Other      2597\n",
      "Adult Arrest     2054\n",
      "Juv Arrest         70\n",
      "Juv Other          43\n",
      "Name: count, dtype: int64\n",
      "Crime_Category\n",
      "Property Crimes                  11661\n",
      "Violent Crimes                    4767\n",
      "Crimes against Public Order       1808\n",
      "Fraud and White-Collar Crimes     1354\n",
      "Crimes against Persons             225\n",
      "Other Crimes                       179\n",
      "Name: count, dtype: int64\n"
     ]
    }
   ],
   "source": [
    "#checking value counts\n",
    "for col in train.select_dtypes('object').columns:\n",
    "     print(train[col].value_counts())  "
   ]
  },
  {
   "cell_type": "code",
   "execution_count": 112,
   "id": "b3133e46-4833-46d6-8c90-3de231a4a80e",
   "metadata": {},
   "outputs": [],
   "source": [
    "#Dropping categorical column with high value count\n",
    "train.drop(columns=['Location', 'Modus_Operandi'], inplace=True)\n",
    "test.drop(columns=['Location', 'Modus_Operandi'], inplace=True)"
   ]
  },
  {
   "cell_type": "code",
   "execution_count": 113,
   "id": "156288e0-7c85-4344-bb0b-7c145a733391",
   "metadata": {},
   "outputs": [],
   "source": [
    "#Dropping other unnecessary columns\n",
    "train.drop(columns=['Area_ID', 'Premise_Code', 'Premise_Description', 'Weapon_Used_Code', 'Status_Description'], inplace=True)\n",
    "test.drop(columns=['Area_ID', 'Premise_Code', 'Premise_Description', 'Weapon_Used_Code', 'Status_Description'], inplace=True)"
   ]
  },
  {
   "cell_type": "code",
   "execution_count": 114,
   "id": "cc9d3e55-31be-4ec9-8c85-3404b4559442",
   "metadata": {},
   "outputs": [],
   "source": [
    "#Feature extraction from date columns\n",
    "train['Day_occ']=train.Date_Occurred.dt.day\n",
    "train['Day_rep']=train.Date_Reported.dt.day\n",
    "train['Month_occ']=train.Date_Occurred.dt.month\n",
    "train['Month_rep']=train.Date_Reported.dt.month"
   ]
  },
  {
   "cell_type": "code",
   "execution_count": 115,
   "id": "6ed8da8f-a415-4103-aef0-2d0dc91a80a8",
   "metadata": {},
   "outputs": [
    {
     "name": "stderr",
     "output_type": "stream",
     "text": [
      "C:\\Users\\user\\AppData\\Local\\Temp\\ipykernel_11308\\3763145196.py:2: FutureWarning: A value is trying to be set on a copy of a DataFrame or Series through chained assignment using an inplace method.\n",
      "The behavior will change in pandas 3.0. This inplace method will never work because the intermediate object on which we are setting values always behaves as a copy.\n",
      "\n",
      "For example, when doing 'df[col].method(value, inplace=True)', try using 'df.method({col: value}, inplace=True)' or df[col] = df[col].method(value) instead, to perform the operation inplace on the original object.\n",
      "\n",
      "\n",
      "  train.Weapon_Description.fillna(\"UNKNOWN WEAPON/OTHER WEAPON\", inplace=True)\n",
      "C:\\Users\\user\\AppData\\Local\\Temp\\ipykernel_11308\\3763145196.py:3: FutureWarning: A value is trying to be set on a copy of a DataFrame or Series through chained assignment using an inplace method.\n",
      "The behavior will change in pandas 3.0. This inplace method will never work because the intermediate object on which we are setting values always behaves as a copy.\n",
      "\n",
      "For example, when doing 'df[col].method(value, inplace=True)', try using 'df.method({col: value}, inplace=True)' or df[col] = df[col].method(value) instead, to perform the operation inplace on the original object.\n",
      "\n",
      "\n",
      "  test.Weapon_Description.fillna(\"UNKNOWN WEAPON/OTHER WEAPON\", inplace=True)\n"
     ]
    }
   ],
   "source": [
    "#imputing Categorical missing values\n",
    "train.Weapon_Description.fillna(\"UNKNOWN WEAPON/OTHER WEAPON\", inplace=True)\n",
    "test.Weapon_Description.fillna(\"UNKNOWN WEAPON/OTHER WEAPON\", inplace=True)"
   ]
  },
  {
   "cell_type": "code",
   "execution_count": 116,
   "id": "393cfb43-ca30-4466-a987-1f74b66d75b2",
   "metadata": {},
   "outputs": [
    {
     "name": "stderr",
     "output_type": "stream",
     "text": [
      "C:\\Users\\user\\AppData\\Local\\Temp\\ipykernel_11308\\3029885712.py:1: FutureWarning: A value is trying to be set on a copy of a DataFrame or Series through chained assignment using an inplace method.\n",
      "The behavior will change in pandas 3.0. This inplace method will never work because the intermediate object on which we are setting values always behaves as a copy.\n",
      "\n",
      "For example, when doing 'df[col].method(value, inplace=True)', try using 'df.method({col: value}, inplace=True)' or df[col] = df[col].method(value) instead, to perform the operation inplace on the original object.\n",
      "\n",
      "\n",
      "  train.Victim_Descent.fillna(train.Victim_Descent.mode()[0], inplace=True)\n",
      "C:\\Users\\user\\AppData\\Local\\Temp\\ipykernel_11308\\3029885712.py:2: FutureWarning: A value is trying to be set on a copy of a DataFrame or Series through chained assignment using an inplace method.\n",
      "The behavior will change in pandas 3.0. This inplace method will never work because the intermediate object on which we are setting values always behaves as a copy.\n",
      "\n",
      "For example, when doing 'df[col].method(value, inplace=True)', try using 'df.method({col: value}, inplace=True)' or df[col] = df[col].method(value) instead, to perform the operation inplace on the original object.\n",
      "\n",
      "\n",
      "  test.Victim_Descent.fillna(train.Victim_Descent.mode()[0], inplace=True)\n"
     ]
    }
   ],
   "source": [
    "train.Victim_Descent.fillna(train.Victim_Descent.mode()[0], inplace=True)\n",
    "test.Victim_Descent.fillna(train.Victim_Descent.mode()[0], inplace=True)"
   ]
  },
  {
   "cell_type": "code",
   "execution_count": 117,
   "id": "bf1ad2a6-39d5-48c9-8cb0-e84fdec5bcc4",
   "metadata": {},
   "outputs": [
    {
     "name": "stderr",
     "output_type": "stream",
     "text": [
      "C:\\Users\\user\\AppData\\Local\\Temp\\ipykernel_11308\\2061092162.py:1: FutureWarning: A value is trying to be set on a copy of a DataFrame or Series through chained assignment using an inplace method.\n",
      "The behavior will change in pandas 3.0. This inplace method will never work because the intermediate object on which we are setting values always behaves as a copy.\n",
      "\n",
      "For example, when doing 'df[col].method(value, inplace=True)', try using 'df.method({col: value}, inplace=True)' or df[col] = df[col].method(value) instead, to perform the operation inplace on the original object.\n",
      "\n",
      "\n",
      "  train.Victim_Sex.fillna(train.Victim_Sex.mode()[0], inplace=True)\n",
      "C:\\Users\\user\\AppData\\Local\\Temp\\ipykernel_11308\\2061092162.py:2: FutureWarning: A value is trying to be set on a copy of a DataFrame or Series through chained assignment using an inplace method.\n",
      "The behavior will change in pandas 3.0. This inplace method will never work because the intermediate object on which we are setting values always behaves as a copy.\n",
      "\n",
      "For example, when doing 'df[col].method(value, inplace=True)', try using 'df.method({col: value}, inplace=True)' or df[col] = df[col].method(value) instead, to perform the operation inplace on the original object.\n",
      "\n",
      "\n",
      "  test.Victim_Sex.fillna(train.Victim_Sex.mode()[0], inplace=True)\n"
     ]
    }
   ],
   "source": [
    "train.Victim_Sex.fillna(train.Victim_Sex.mode()[0], inplace=True)\n",
    "test.Victim_Sex.fillna(train.Victim_Sex.mode()[0], inplace=True)"
   ]
  },
  {
   "cell_type": "code",
   "execution_count": 118,
   "id": "362946e1-7c3c-42ca-9bd5-68e6a756affa",
   "metadata": {},
   "outputs": [],
   "source": [
    "#using KNNImputer to impute missings in continuous column.\n",
    "knn_imputer= KNNImputer()\n",
    "train['Longitude']= knn_imputer.fit_transform(pd.DataFrame(train['Longitude']))"
   ]
  },
  {
   "cell_type": "code",
   "execution_count": 119,
   "id": "407db563-4b30-4eed-958a-d624d4e6aec4",
   "metadata": {},
   "outputs": [
    {
     "name": "stdout",
     "output_type": "stream",
     "text": [
      "<class 'pandas.core.frame.DataFrame'>\n",
      "RangeIndex: 19994 entries, 0 to 19993\n",
      "Data columns (total 18 columns):\n",
      " #   Column                 Non-Null Count  Dtype         \n",
      "---  ------                 --------------  -----         \n",
      " 0   Latitude               19994 non-null  float64       \n",
      " 1   Longitude              19994 non-null  float64       \n",
      " 2   Date_Reported          19994 non-null  datetime64[ns]\n",
      " 3   Date_Occurred          19994 non-null  datetime64[ns]\n",
      " 4   Time_Occurred          19994 non-null  float64       \n",
      " 5   Area_Name              19994 non-null  object        \n",
      " 6   Reporting_District_no  19994 non-null  float64       \n",
      " 7   Part_1_2               19994 non-null  float64       \n",
      " 8   Victim_Age             19994 non-null  float64       \n",
      " 9   Victim_Sex             19994 non-null  object        \n",
      " 10  Victim_Descent         19994 non-null  object        \n",
      " 11  Weapon_Description     19994 non-null  object        \n",
      " 12  Status                 19994 non-null  object        \n",
      " 13  Crime_Category         19994 non-null  object        \n",
      " 14  Day_occ                19994 non-null  int32         \n",
      " 15  Day_rep                19994 non-null  int32         \n",
      " 16  Month_occ              19994 non-null  int32         \n",
      " 17  Month_rep              19994 non-null  int32         \n",
      "dtypes: datetime64[ns](2), float64(6), int32(4), object(6)\n",
      "memory usage: 2.4+ MB\n"
     ]
    }
   ],
   "source": [
    "train.info()"
   ]
  },
  {
   "cell_type": "code",
   "execution_count": 120,
   "id": "0c4f7a33-f0c3-41da-9d83-cb91f2611162",
   "metadata": {},
   "outputs": [
    {
     "data": {
      "text/plain": [
       "18"
      ]
     },
     "execution_count": 120,
     "metadata": {},
     "output_type": "execute_result"
    }
   ],
   "source": [
    "#Checking Duplicates\n",
    "train.duplicated().sum()"
   ]
  },
  {
   "cell_type": "code",
   "execution_count": 121,
   "id": "3069d1fc-e722-497e-8297-6de39c295dc3",
   "metadata": {},
   "outputs": [],
   "source": [
    "#Removing Duplicates\n",
    "train.drop_duplicates(inplace=True, ignore_index=True)"
   ]
  },
  {
   "cell_type": "code",
   "execution_count": 122,
   "id": "f8397aa6-fd4f-41cd-8ec4-f5108b091195",
   "metadata": {},
   "outputs": [],
   "source": [
    "#Treating negative records\n",
    "train=train[train.Victim_Age>=0]"
   ]
  },
  {
   "cell_type": "code",
   "execution_count": 123,
   "id": "05e746d7-2883-4fd8-a1a9-0f94eb94d738",
   "metadata": {},
   "outputs": [],
   "source": [
    "#Treating Time(24 hr format)\n",
    "def fix_time_format_single(time):\n",
    "    if pd.isnull(time):\n",
    "        return \"Invalid\"\n",
    "    time_str = str(int(time)).zfill(4)\n",
    "    \n",
    "    hour = int(time_str[:2])\n",
    "    minute = int(time_str[2:])\n",
    "    \n",
    "    if 0 <= hour < 24 and 0 <= minute < 60:\n",
    "        return time_str\n",
    "    else:\n",
    "        return \"Invalid\"\n"
   ]
  },
  {
   "cell_type": "code",
   "execution_count": 124,
   "id": "4d874506-9b19-49ba-abbc-cc27f8b0d241",
   "metadata": {},
   "outputs": [
    {
     "data": {
      "text/plain": [
       "0       2000\n",
       "1       1700\n",
       "2       0900\n",
       "3       2200\n",
       "4       0130\n",
       "        ... \n",
       "4995    2100\n",
       "4996    1530\n",
       "4997    2100\n",
       "4998    2335\n",
       "4999    0320\n",
       "Name: Time_Occurred, Length: 5000, dtype: object"
      ]
     },
     "execution_count": 124,
     "metadata": {},
     "output_type": "execute_result"
    }
   ],
   "source": [
    "train.Time_Occurred.astype('object').apply(fix_time_format_single)\n",
    "test.Time_Occurred.astype('object').apply(fix_time_format_single)"
   ]
  },
  {
   "cell_type": "code",
   "execution_count": 125,
   "id": "efaa944d-9730-4821-8e5f-9bf02f9610df",
   "metadata": {},
   "outputs": [
    {
     "data": {
      "text/html": [
       "<div>\n",
       "<style scoped>\n",
       "    .dataframe tbody tr th:only-of-type {\n",
       "        vertical-align: middle;\n",
       "    }\n",
       "\n",
       "    .dataframe tbody tr th {\n",
       "        vertical-align: top;\n",
       "    }\n",
       "\n",
       "    .dataframe thead th {\n",
       "        text-align: right;\n",
       "    }\n",
       "</style>\n",
       "<table border=\"1\" class=\"dataframe\">\n",
       "  <thead>\n",
       "    <tr style=\"text-align: right;\">\n",
       "      <th></th>\n",
       "      <th>Latitude</th>\n",
       "      <th>Longitude</th>\n",
       "      <th>Date_Reported</th>\n",
       "      <th>Date_Occurred</th>\n",
       "      <th>Time_Occurred</th>\n",
       "      <th>Reporting_District_no</th>\n",
       "      <th>Part_1_2</th>\n",
       "      <th>Victim_Age</th>\n",
       "      <th>Day_occ</th>\n",
       "      <th>Day_rep</th>\n",
       "      <th>Month_occ</th>\n",
       "      <th>Month_rep</th>\n",
       "    </tr>\n",
       "  </thead>\n",
       "  <tbody>\n",
       "    <tr>\n",
       "      <th>count</th>\n",
       "      <td>19976.000000</td>\n",
       "      <td>19976.000000</td>\n",
       "      <td>19976</td>\n",
       "      <td>19976</td>\n",
       "      <td>19976.000000</td>\n",
       "      <td>19976.000000</td>\n",
       "      <td>19976.000000</td>\n",
       "      <td>19976.000000</td>\n",
       "      <td>19976.000000</td>\n",
       "      <td>19976.000000</td>\n",
       "      <td>19976.000000</td>\n",
       "      <td>19976.000000</td>\n",
       "    </tr>\n",
       "    <tr>\n",
       "      <th>mean</th>\n",
       "      <td>33.940530</td>\n",
       "      <td>-118.354628</td>\n",
       "      <td>2020-07-20 17:56:10.764917760</td>\n",
       "      <td>2020-06-28 20:23:05.502603008</td>\n",
       "      <td>1352.558470</td>\n",
       "      <td>1129.682469</td>\n",
       "      <td>1.418202</td>\n",
       "      <td>30.160142</td>\n",
       "      <td>15.567231</td>\n",
       "      <td>15.791700</td>\n",
       "      <td>6.432769</td>\n",
       "      <td>6.410042</td>\n",
       "    </tr>\n",
       "    <tr>\n",
       "      <th>min</th>\n",
       "      <td>0.000000</td>\n",
       "      <td>-118.663399</td>\n",
       "      <td>2020-01-01 00:00:00</td>\n",
       "      <td>2020-01-01 00:00:00</td>\n",
       "      <td>1.000000</td>\n",
       "      <td>101.000000</td>\n",
       "      <td>1.000000</td>\n",
       "      <td>0.000000</td>\n",
       "      <td>1.000000</td>\n",
       "      <td>1.000000</td>\n",
       "      <td>1.000000</td>\n",
       "      <td>1.000000</td>\n",
       "    </tr>\n",
       "    <tr>\n",
       "      <th>1%</th>\n",
       "      <td>33.729201</td>\n",
       "      <td>-118.613527</td>\n",
       "      <td>2020-01-05 00:00:00</td>\n",
       "      <td>2020-01-03 00:00:00</td>\n",
       "      <td>1.000000</td>\n",
       "      <td>124.000000</td>\n",
       "      <td>1.000000</td>\n",
       "      <td>0.000000</td>\n",
       "      <td>1.000000</td>\n",
       "      <td>1.000000</td>\n",
       "      <td>1.000000</td>\n",
       "      <td>1.000000</td>\n",
       "    </tr>\n",
       "    <tr>\n",
       "      <th>10%</th>\n",
       "      <td>33.952900</td>\n",
       "      <td>-118.507153</td>\n",
       "      <td>2020-02-08 00:00:00</td>\n",
       "      <td>2020-02-03 00:00:00</td>\n",
       "      <td>300.000000</td>\n",
       "      <td>279.000000</td>\n",
       "      <td>1.000000</td>\n",
       "      <td>0.000000</td>\n",
       "      <td>3.000000</td>\n",
       "      <td>4.000000</td>\n",
       "      <td>2.000000</td>\n",
       "      <td>2.000000</td>\n",
       "    </tr>\n",
       "    <tr>\n",
       "      <th>25%</th>\n",
       "      <td>34.009201</td>\n",
       "      <td>-118.429703</td>\n",
       "      <td>2020-04-06 00:00:00</td>\n",
       "      <td>2020-03-29 00:00:00</td>\n",
       "      <td>930.000000</td>\n",
       "      <td>632.000000</td>\n",
       "      <td>1.000000</td>\n",
       "      <td>12.000000</td>\n",
       "      <td>8.000000</td>\n",
       "      <td>8.000000</td>\n",
       "      <td>3.000000</td>\n",
       "      <td>3.000000</td>\n",
       "    </tr>\n",
       "    <tr>\n",
       "      <th>50%</th>\n",
       "      <td>34.058701</td>\n",
       "      <td>-118.324402</td>\n",
       "      <td>2020-07-09 00:00:00</td>\n",
       "      <td>2020-06-28 00:00:00</td>\n",
       "      <td>1430.000000</td>\n",
       "      <td>1162.000000</td>\n",
       "      <td>1.000000</td>\n",
       "      <td>31.000000</td>\n",
       "      <td>16.000000</td>\n",
       "      <td>16.000000</td>\n",
       "      <td>6.000000</td>\n",
       "      <td>6.000000</td>\n",
       "    </tr>\n",
       "    <tr>\n",
       "      <th>75%</th>\n",
       "      <td>34.165001</td>\n",
       "      <td>-118.275597</td>\n",
       "      <td>2020-10-10 00:00:00</td>\n",
       "      <td>2020-09-28 00:00:00</td>\n",
       "      <td>1900.000000</td>\n",
       "      <td>1622.000000</td>\n",
       "      <td>2.000000</td>\n",
       "      <td>46.000000</td>\n",
       "      <td>23.000000</td>\n",
       "      <td>23.000000</td>\n",
       "      <td>9.000000</td>\n",
       "      <td>9.000000</td>\n",
       "    </tr>\n",
       "    <tr>\n",
       "      <th>99%</th>\n",
       "      <td>34.302502</td>\n",
       "      <td>-118.191200</td>\n",
       "      <td>2022-06-03 12:00:00</td>\n",
       "      <td>2020-12-28 00:00:00</td>\n",
       "      <td>2330.000000</td>\n",
       "      <td>2173.000000</td>\n",
       "      <td>2.000000</td>\n",
       "      <td>78.000000</td>\n",
       "      <td>31.000000</td>\n",
       "      <td>31.000000</td>\n",
       "      <td>12.000000</td>\n",
       "      <td>12.000000</td>\n",
       "    </tr>\n",
       "    <tr>\n",
       "      <th>max</th>\n",
       "      <td>34.328098</td>\n",
       "      <td>-118.159302</td>\n",
       "      <td>2024-01-23 00:00:00</td>\n",
       "      <td>2020-12-31 00:00:00</td>\n",
       "      <td>2359.000000</td>\n",
       "      <td>2197.000000</td>\n",
       "      <td>2.000000</td>\n",
       "      <td>99.000000</td>\n",
       "      <td>31.000000</td>\n",
       "      <td>31.000000</td>\n",
       "      <td>12.000000</td>\n",
       "      <td>12.000000</td>\n",
       "    </tr>\n",
       "    <tr>\n",
       "      <th>std</th>\n",
       "      <td>2.128077</td>\n",
       "      <td>0.103299</td>\n",
       "      <td>NaN</td>\n",
       "      <td>NaN</td>\n",
       "      <td>645.870249</td>\n",
       "      <td>603.386011</td>\n",
       "      <td>0.493276</td>\n",
       "      <td>21.857755</td>\n",
       "      <td>8.941377</td>\n",
       "      <td>8.821286</td>\n",
       "      <td>3.460007</td>\n",
       "      <td>3.452828</td>\n",
       "    </tr>\n",
       "  </tbody>\n",
       "</table>\n",
       "</div>"
      ],
      "text/plain": [
       "           Latitude     Longitude                  Date_Reported  \\\n",
       "count  19976.000000  19976.000000                          19976   \n",
       "mean      33.940530   -118.354628  2020-07-20 17:56:10.764917760   \n",
       "min        0.000000   -118.663399            2020-01-01 00:00:00   \n",
       "1%        33.729201   -118.613527            2020-01-05 00:00:00   \n",
       "10%       33.952900   -118.507153            2020-02-08 00:00:00   \n",
       "25%       34.009201   -118.429703            2020-04-06 00:00:00   \n",
       "50%       34.058701   -118.324402            2020-07-09 00:00:00   \n",
       "75%       34.165001   -118.275597            2020-10-10 00:00:00   \n",
       "99%       34.302502   -118.191200            2022-06-03 12:00:00   \n",
       "max       34.328098   -118.159302            2024-01-23 00:00:00   \n",
       "std        2.128077      0.103299                            NaN   \n",
       "\n",
       "                       Date_Occurred  Time_Occurred  Reporting_District_no  \\\n",
       "count                          19976   19976.000000           19976.000000   \n",
       "mean   2020-06-28 20:23:05.502603008    1352.558470            1129.682469   \n",
       "min              2020-01-01 00:00:00       1.000000             101.000000   \n",
       "1%               2020-01-03 00:00:00       1.000000             124.000000   \n",
       "10%              2020-02-03 00:00:00     300.000000             279.000000   \n",
       "25%              2020-03-29 00:00:00     930.000000             632.000000   \n",
       "50%              2020-06-28 00:00:00    1430.000000            1162.000000   \n",
       "75%              2020-09-28 00:00:00    1900.000000            1622.000000   \n",
       "99%              2020-12-28 00:00:00    2330.000000            2173.000000   \n",
       "max              2020-12-31 00:00:00    2359.000000            2197.000000   \n",
       "std                              NaN     645.870249             603.386011   \n",
       "\n",
       "           Part_1_2    Victim_Age       Day_occ       Day_rep     Month_occ  \\\n",
       "count  19976.000000  19976.000000  19976.000000  19976.000000  19976.000000   \n",
       "mean       1.418202     30.160142     15.567231     15.791700      6.432769   \n",
       "min        1.000000      0.000000      1.000000      1.000000      1.000000   \n",
       "1%         1.000000      0.000000      1.000000      1.000000      1.000000   \n",
       "10%        1.000000      0.000000      3.000000      4.000000      2.000000   \n",
       "25%        1.000000     12.000000      8.000000      8.000000      3.000000   \n",
       "50%        1.000000     31.000000     16.000000     16.000000      6.000000   \n",
       "75%        2.000000     46.000000     23.000000     23.000000      9.000000   \n",
       "99%        2.000000     78.000000     31.000000     31.000000     12.000000   \n",
       "max        2.000000     99.000000     31.000000     31.000000     12.000000   \n",
       "std        0.493276     21.857755      8.941377      8.821286      3.460007   \n",
       "\n",
       "          Month_rep  \n",
       "count  19976.000000  \n",
       "mean       6.410042  \n",
       "min        1.000000  \n",
       "1%         1.000000  \n",
       "10%        2.000000  \n",
       "25%        3.000000  \n",
       "50%        6.000000  \n",
       "75%        9.000000  \n",
       "99%       12.000000  \n",
       "max       12.000000  \n",
       "std        3.452828  "
      ]
     },
     "execution_count": 125,
     "metadata": {},
     "output_type": "execute_result"
    }
   ],
   "source": [
    "train.describe(percentiles=[0.01,0.1,0.25,0.5,0.75,0.99])"
   ]
  },
  {
   "cell_type": "code",
   "execution_count": 126,
   "id": "6b40ac73-9ebc-47f9-a667-3ea7a70444ca",
   "metadata": {},
   "outputs": [
    {
     "data": {
      "text/html": [
       "<div>\n",
       "<style scoped>\n",
       "    .dataframe tbody tr th:only-of-type {\n",
       "        vertical-align: middle;\n",
       "    }\n",
       "\n",
       "    .dataframe tbody tr th {\n",
       "        vertical-align: top;\n",
       "    }\n",
       "\n",
       "    .dataframe thead th {\n",
       "        text-align: right;\n",
       "    }\n",
       "</style>\n",
       "<table border=\"1\" class=\"dataframe\">\n",
       "  <thead>\n",
       "    <tr style=\"text-align: right;\">\n",
       "      <th></th>\n",
       "      <th>Area_Name</th>\n",
       "      <th>Victim_Sex</th>\n",
       "      <th>Victim_Descent</th>\n",
       "      <th>Weapon_Description</th>\n",
       "      <th>Status</th>\n",
       "      <th>Crime_Category</th>\n",
       "    </tr>\n",
       "  </thead>\n",
       "  <tbody>\n",
       "    <tr>\n",
       "      <th>count</th>\n",
       "      <td>19976</td>\n",
       "      <td>19976</td>\n",
       "      <td>19976</td>\n",
       "      <td>19976</td>\n",
       "      <td>19976</td>\n",
       "      <td>19976</td>\n",
       "    </tr>\n",
       "    <tr>\n",
       "      <th>unique</th>\n",
       "      <td>21</td>\n",
       "      <td>4</td>\n",
       "      <td>17</td>\n",
       "      <td>57</td>\n",
       "      <td>5</td>\n",
       "      <td>6</td>\n",
       "    </tr>\n",
       "    <tr>\n",
       "      <th>top</th>\n",
       "      <td>77th Street</td>\n",
       "      <td>M</td>\n",
       "      <td>H</td>\n",
       "      <td>UNKNOWN WEAPON/OTHER WEAPON</td>\n",
       "      <td>IC</td>\n",
       "      <td>Property Crimes</td>\n",
       "    </tr>\n",
       "    <tr>\n",
       "      <th>freq</th>\n",
       "      <td>1345</td>\n",
       "      <td>11151</td>\n",
       "      <td>8762</td>\n",
       "      <td>13435</td>\n",
       "      <td>15218</td>\n",
       "      <td>11653</td>\n",
       "    </tr>\n",
       "  </tbody>\n",
       "</table>\n",
       "</div>"
      ],
      "text/plain": [
       "          Area_Name Victim_Sex Victim_Descent           Weapon_Description  \\\n",
       "count         19976      19976          19976                        19976   \n",
       "unique           21          4             17                           57   \n",
       "top     77th Street          M              H  UNKNOWN WEAPON/OTHER WEAPON   \n",
       "freq           1345      11151           8762                        13435   \n",
       "\n",
       "       Status   Crime_Category  \n",
       "count   19976            19976  \n",
       "unique      5                6  \n",
       "top        IC  Property Crimes  \n",
       "freq    15218            11653  "
      ]
     },
     "execution_count": 126,
     "metadata": {},
     "output_type": "execute_result"
    }
   ],
   "source": [
    "train.select_dtypes('object').describe()"
   ]
  },
  {
   "cell_type": "code",
   "execution_count": 127,
   "id": "3f00cc95-92d6-4627-8c2c-8f901c2615a1",
   "metadata": {},
   "outputs": [],
   "source": [
    "#Splitting numerical & categorical variables\n",
    "train_num= train.select_dtypes(['float64', 'int32'])\n",
    "train_cat= train.select_dtypes('object')"
   ]
  },
  {
   "cell_type": "code",
   "execution_count": 128,
   "id": "8a86f464-2db2-4932-99ee-9ead735abd49",
   "metadata": {},
   "outputs": [],
   "source": [
    "#Outlier treatment\n",
    "def outlier(x):\n",
    "    q1 = x.quantile(0.25)\n",
    "    q3 = x.quantile(0.75)\n",
    "    iqr = q3 - q1\n",
    "    lc = q1 - 1.5 * iqr\n",
    "    uc = q3 + 1.5 * iqr\n",
    "    x=x.clip(lower=lc, upper=uc)\n",
    "    return x\n",
    "\n",
    "train_num=train_num.apply(outlier)"
   ]
  },
  {
   "cell_type": "code",
   "execution_count": 129,
   "id": "6f80885e-6a95-434d-b6ce-945dfd5fea01",
   "metadata": {},
   "outputs": [
    {
     "data": {
      "image/png": "[encoded data removed]",
      "text/plain": [
       "<Figure size 640x480 with 1 Axes>"
      ]
     },
     "metadata": {},
     "output_type": "display_data"
    },
    {
     "data": {
      "image/png": "[encoded data removed]",
      "text/plain": [
       "<Figure size 640x480 with 1 Axes>"
      ]
     },
     "metadata": {},
     "output_type": "display_data"
    },
    {
     "data": {
      "image/png": "[encoded data removed]",
      "text/plain": [
       "<Figure size 640x480 with 1 Axes>"
      ]
     },
     "metadata": {},
     "output_type": "display_data"
    },
    {
     "data": {
      "image/png": "[encoded data removed]",
      "text/plain": [
       "<Figure size 640x480 with 1 Axes>"
      ]
     },
     "metadata": {},
     "output_type": "display_data"
    },
    {
     "data": {
      "image/png": "[encoded data removed]",
      "text/plain": [
       "<Figure size 640x480 with 1 Axes>"
      ]
     },
     "metadata": {},
     "output_type": "display_data"
    },
    {
     "data": {
      "image/png": "[encoded data removed]",
      "text/plain": [
       "<Figure size 640x480 with 1 Axes>"
      ]
     },
     "metadata": {},
     "output_type": "display_data"
    },
    {
     "data": {
      "image/png": "[encoded data removed]",
      "text/plain": [
       "<Figure size 640x480 with 1 Axes>"
      ]
     },
     "metadata": {},
     "output_type": "display_data"
    },
    {
     "data": {
      "image/png": "[encoded data removed]",
      "text/plain": [
       "<Figure size 640x480 with 1 Axes>"
      ]
     },
     "metadata": {},
     "output_type": "display_data"
    },
    {
     "data": {
      "image/png": "[encoded data removed]",
      "text/plain": [
       "<Figure size 640x480 with 1 Axes>"
      ]
     },
     "metadata": {},
     "output_type": "display_data"
    },
    {
     "data": {
      "image/png": "[encoded data removed]",
      "text/plain": [
       "<Figure size 640x480 with 1 Axes>"
      ]
     },
     "metadata": {},
     "output_type": "display_data"
    },
    {
     "data": {
      "text/html": [
       "<div>\n",
       "<style scoped>\n",
       "    .dataframe tbody tr th:only-of-type {\n",
       "        vertical-align: middle;\n",
       "    }\n",
       "\n",
       "    .dataframe tbody tr th {\n",
       "        vertical-align: top;\n",
       "    }\n",
       "\n",
       "    .dataframe thead th {\n",
       "        text-align: right;\n",
       "    }\n",
       "</style>\n",
       "<table border=\"1\" class=\"dataframe\">\n",
       "  <thead>\n",
       "    <tr style=\"text-align: right;\">\n",
       "      <th></th>\n",
       "      <th>Latitude</th>\n",
       "      <th>Longitude</th>\n",
       "      <th>Time_Occurred</th>\n",
       "      <th>Reporting_District_no</th>\n",
       "      <th>Part_1_2</th>\n",
       "      <th>Victim_Age</th>\n",
       "      <th>Day_occ</th>\n",
       "      <th>Day_rep</th>\n",
       "      <th>Month_occ</th>\n",
       "      <th>Month_rep</th>\n",
       "    </tr>\n",
       "  </thead>\n",
       "  <tbody>\n",
       "    <tr>\n",
       "      <th>0</th>\n",
       "      <td>34.152199</td>\n",
       "      <td>-118.390999</td>\n",
       "      <td>1800.0</td>\n",
       "      <td>1563.0</td>\n",
       "      <td>1.0</td>\n",
       "      <td>75.0</td>\n",
       "      <td>6</td>\n",
       "      <td>9</td>\n",
       "      <td>3</td>\n",
       "      <td>3</td>\n",
       "    </tr>\n",
       "    <tr>\n",
       "      <th>1</th>\n",
       "      <td>34.002800</td>\n",
       "      <td>-118.239098</td>\n",
       "      <td>1345.0</td>\n",
       "      <td>1367.0</td>\n",
       "      <td>1.0</td>\n",
       "      <td>41.0</td>\n",
       "      <td>27</td>\n",
       "      <td>27</td>\n",
       "      <td>2</td>\n",
       "      <td>2</td>\n",
       "    </tr>\n",
       "    <tr>\n",
       "      <th>2</th>\n",
       "      <td>34.011101</td>\n",
       "      <td>-118.265297</td>\n",
       "      <td>605.0</td>\n",
       "      <td>1343.0</td>\n",
       "      <td>2.0</td>\n",
       "      <td>67.0</td>\n",
       "      <td>21</td>\n",
       "      <td>21</td>\n",
       "      <td>8</td>\n",
       "      <td>8</td>\n",
       "    </tr>\n",
       "    <tr>\n",
       "      <th>3</th>\n",
       "      <td>34.295300</td>\n",
       "      <td>-118.459000</td>\n",
       "      <td>1800.0</td>\n",
       "      <td>1924.0</td>\n",
       "      <td>1.0</td>\n",
       "      <td>61.0</td>\n",
       "      <td>6</td>\n",
       "      <td>8</td>\n",
       "      <td>11</td>\n",
       "      <td>11</td>\n",
       "    </tr>\n",
       "    <tr>\n",
       "      <th>4</th>\n",
       "      <td>33.978699</td>\n",
       "      <td>-118.291801</td>\n",
       "      <td>1130.0</td>\n",
       "      <td>1245.0</td>\n",
       "      <td>1.0</td>\n",
       "      <td>0.0</td>\n",
       "      <td>25</td>\n",
       "      <td>25</td>\n",
       "      <td>2</td>\n",
       "      <td>2</td>\n",
       "    </tr>\n",
       "    <tr>\n",
       "      <th>...</th>\n",
       "      <td>...</td>\n",
       "      <td>...</td>\n",
       "      <td>...</td>\n",
       "      <td>...</td>\n",
       "      <td>...</td>\n",
       "      <td>...</td>\n",
       "      <td>...</td>\n",
       "      <td>...</td>\n",
       "      <td>...</td>\n",
       "      <td>...</td>\n",
       "    </tr>\n",
       "    <tr>\n",
       "      <th>19971</th>\n",
       "      <td>34.033401</td>\n",
       "      <td>-118.352303</td>\n",
       "      <td>700.0</td>\n",
       "      <td>303.0</td>\n",
       "      <td>2.0</td>\n",
       "      <td>51.0</td>\n",
       "      <td>24</td>\n",
       "      <td>24</td>\n",
       "      <td>5</td>\n",
       "      <td>5</td>\n",
       "    </tr>\n",
       "    <tr>\n",
       "      <th>19972</th>\n",
       "      <td>34.221199</td>\n",
       "      <td>-118.501099</td>\n",
       "      <td>259.0</td>\n",
       "      <td>1008.0</td>\n",
       "      <td>1.0</td>\n",
       "      <td>0.0</td>\n",
       "      <td>25</td>\n",
       "      <td>25</td>\n",
       "      <td>12</td>\n",
       "      <td>12</td>\n",
       "    </tr>\n",
       "    <tr>\n",
       "      <th>19973</th>\n",
       "      <td>34.057098</td>\n",
       "      <td>-118.381500</td>\n",
       "      <td>1400.0</td>\n",
       "      <td>849.0</td>\n",
       "      <td>1.0</td>\n",
       "      <td>42.0</td>\n",
       "      <td>25</td>\n",
       "      <td>25</td>\n",
       "      <td>9</td>\n",
       "      <td>9</td>\n",
       "    </tr>\n",
       "    <tr>\n",
       "      <th>19974</th>\n",
       "      <td>33.775501</td>\n",
       "      <td>-118.283501</td>\n",
       "      <td>600.0</td>\n",
       "      <td>558.0</td>\n",
       "      <td>2.0</td>\n",
       "      <td>76.0</td>\n",
       "      <td>10</td>\n",
       "      <td>10</td>\n",
       "      <td>6</td>\n",
       "      <td>6</td>\n",
       "    </tr>\n",
       "    <tr>\n",
       "      <th>19975</th>\n",
       "      <td>34.003700</td>\n",
       "      <td>-118.303398</td>\n",
       "      <td>1800.0</td>\n",
       "      <td>397.0</td>\n",
       "      <td>1.0</td>\n",
       "      <td>0.0</td>\n",
       "      <td>17</td>\n",
       "      <td>18</td>\n",
       "      <td>2</td>\n",
       "      <td>2</td>\n",
       "    </tr>\n",
       "  </tbody>\n",
       "</table>\n",
       "<p>19976 rows × 10 columns</p>\n",
       "</div>"
      ],
      "text/plain": [
       "        Latitude   Longitude  Time_Occurred  Reporting_District_no  Part_1_2  \\\n",
       "0      34.152199 -118.390999         1800.0                 1563.0       1.0   \n",
       "1      34.002800 -118.239098         1345.0                 1367.0       1.0   \n",
       "2      34.011101 -118.265297          605.0                 1343.0       2.0   \n",
       "3      34.295300 -118.459000         1800.0                 1924.0       1.0   \n",
       "4      33.978699 -118.291801         1130.0                 1245.0       1.0   \n",
       "...          ...         ...            ...                    ...       ...   \n",
       "19971  34.033401 -118.352303          700.0                  303.0       2.0   \n",
       "19972  34.221199 -118.501099          259.0                 1008.0       1.0   \n",
       "19973  34.057098 -118.381500         1400.0                  849.0       1.0   \n",
       "19974  33.775501 -118.283501          600.0                  558.0       2.0   \n",
       "19975  34.003700 -118.303398         1800.0                  397.0       1.0   \n",
       "\n",
       "       Victim_Age  Day_occ  Day_rep  Month_occ  Month_rep  \n",
       "0            75.0        6        9          3          3  \n",
       "1            41.0       27       27          2          2  \n",
       "2            67.0       21       21          8          8  \n",
       "3            61.0        6        8         11         11  \n",
       "4             0.0       25       25          2          2  \n",
       "...           ...      ...      ...        ...        ...  \n",
       "19971        51.0       24       24          5          5  \n",
       "19972         0.0       25       25         12         12  \n",
       "19973        42.0       25       25          9          9  \n",
       "19974        76.0       10       10          6          6  \n",
       "19975         0.0       17       18          2          2  \n",
       "\n",
       "[19976 rows x 10 columns]"
      ]
     },
     "execution_count": 129,
     "metadata": {},
     "output_type": "execute_result"
    }
   ],
   "source": [
    "def demo(x):\n",
    "    plt.title('Boxplot of '+ x.name)\n",
    "    sns.boxplot(x)\n",
    "    plt.show()\n",
    "    return x\n",
    "\n",
    "train_num.apply(demo)"
   ]
  },
  {
   "cell_type": "code",
   "execution_count": 130,
   "id": "67988a63-d3d9-4d65-8415-543e15b53a2a",
   "metadata": {},
   "outputs": [],
   "source": [
    "#Merging all variables\n",
    "train_new= pd.concat([train_num, train_cat], axis=1)"
   ]
  },
  {
   "cell_type": "markdown",
   "id": "249092f5-55d5-445c-b8cb-03be00e51f0b",
   "metadata": {},
   "source": [
    "### Analysis & Visualizations"
   ]
  },
  {
   "cell_type": "code",
   "execution_count": 131,
   "id": "75ae99b1-bd13-40aa-8c2d-c4ae8b531f69",
   "metadata": {},
   "outputs": [
    {
     "data": {
      "text/plain": [
       "<Axes: xlabel='Victim_Sex', ylabel='Count'>"
      ]
     },
     "execution_count": 131,
     "metadata": {},
     "output_type": "execute_result"
    },
    {
     "data": {
      "image/png": "[encoded data removed]",
      "text/plain": [
       "<Figure size 640x480 with 1 Axes>"
      ]
     },
     "metadata": {},
     "output_type": "display_data"
    }
   ],
   "source": [
    "sns.histplot(train['Victim_Sex'])"
   ]
  },
  {
   "cell_type": "code",
   "execution_count": 132,
   "id": "243483db-69e3-43ca-aee5-19356c49e5b5",
   "metadata": {},
   "outputs": [
    {
     "data": {
      "text/plain": [
       "<Axes: xlabel='Victim_Age', ylabel='Count'>"
      ]
     },
     "execution_count": 132,
     "metadata": {},
     "output_type": "execute_result"
    },
    {
     "data": {
      "image/png": "[encoded data removed]",
      "text/plain": [
       "<Figure size 640x480 with 1 Axes>"
      ]
     },
     "metadata": {},
     "output_type": "display_data"
    }
   ],
   "source": [
    "sns.histplot(train['Victim_Age'])"
   ]
  },
  {
   "cell_type": "code",
   "execution_count": 133,
   "id": "bc3b8622-18ee-4359-b79a-a7261ecbff2d",
   "metadata": {},
   "outputs": [
    {
     "data": {
      "text/plain": [
       "<Axes: xlabel='Victim_Descent', ylabel='Count'>"
      ]
     },
     "execution_count": 133,
     "metadata": {},
     "output_type": "execute_result"
    },
    {
     "data": {
      "image/png": "[encoded data removed]",
      "text/plain": [
       "<Figure size 640x480 with 1 Axes>"
      ]
     },
     "metadata": {},
     "output_type": "display_data"
    }
   ],
   "source": [
    "sns.histplot(train['Victim_Descent'])"
   ]
  },
  {
   "cell_type": "code",
   "execution_count": 135,
   "id": "5c1254ed-e139-459c-890e-061d00637ab2",
   "metadata": {},
   "outputs": [],
   "source": [
    "#Splitting features and target variable\n",
    "X=train_new[train_new.columns.difference(['Crime_Category'])]\n",
    "y=train.Crime_Category"
   ]
  },
  {
   "cell_type": "code",
   "execution_count": 136,
   "id": "cc361c99-716d-4dba-bd96-6ab70bb35fce",
   "metadata": {},
   "outputs": [
    {
     "data": {
      "text/html": [
       "<div>\n",
       "<style scoped>\n",
       "    .dataframe tbody tr th:only-of-type {\n",
       "        vertical-align: middle;\n",
       "    }\n",
       "\n",
       "    .dataframe tbody tr th {\n",
       "        vertical-align: top;\n",
       "    }\n",
       "\n",
       "    .dataframe thead th {\n",
       "        text-align: right;\n",
       "    }\n",
       "</style>\n",
       "<table border=\"1\" class=\"dataframe\">\n",
       "  <thead>\n",
       "    <tr style=\"text-align: right;\">\n",
       "      <th></th>\n",
       "      <th>Day_occ</th>\n",
       "      <th>Day_rep</th>\n",
       "      <th>Latitude</th>\n",
       "      <th>Longitude</th>\n",
       "      <th>Month_occ</th>\n",
       "      <th>Month_rep</th>\n",
       "      <th>Part_1_2</th>\n",
       "      <th>Reporting_District_no</th>\n",
       "      <th>Time_Occurred</th>\n",
       "      <th>Victim_Age</th>\n",
       "    </tr>\n",
       "  </thead>\n",
       "  <tbody>\n",
       "    <tr>\n",
       "      <th>Day_occ</th>\n",
       "      <td>1.000000</td>\n",
       "      <td>0.735728</td>\n",
       "      <td>0.001197</td>\n",
       "      <td>-0.002016</td>\n",
       "      <td>0.006491</td>\n",
       "      <td>-0.003498</td>\n",
       "      <td>-0.015013</td>\n",
       "      <td>-0.005032</td>\n",
       "      <td>0.034563</td>\n",
       "      <td>-0.013521</td>\n",
       "    </tr>\n",
       "    <tr>\n",
       "      <th>Day_rep</th>\n",
       "      <td>0.735728</td>\n",
       "      <td>1.000000</td>\n",
       "      <td>-0.000560</td>\n",
       "      <td>-0.001678</td>\n",
       "      <td>-0.000942</td>\n",
       "      <td>-0.001683</td>\n",
       "      <td>0.006479</td>\n",
       "      <td>-0.008961</td>\n",
       "      <td>0.016970</td>\n",
       "      <td>-0.003701</td>\n",
       "    </tr>\n",
       "    <tr>\n",
       "      <th>Latitude</th>\n",
       "      <td>0.001197</td>\n",
       "      <td>-0.000560</td>\n",
       "      <td>1.000000</td>\n",
       "      <td>-0.571497</td>\n",
       "      <td>-0.018302</td>\n",
       "      <td>-0.020860</td>\n",
       "      <td>-0.004477</td>\n",
       "      <td>0.333720</td>\n",
       "      <td>0.014439</td>\n",
       "      <td>0.041209</td>\n",
       "    </tr>\n",
       "    <tr>\n",
       "      <th>Longitude</th>\n",
       "      <td>-0.002016</td>\n",
       "      <td>-0.001678</td>\n",
       "      <td>-0.571497</td>\n",
       "      <td>1.000000</td>\n",
       "      <td>-0.010729</td>\n",
       "      <td>-0.006540</td>\n",
       "      <td>-0.002050</td>\n",
       "      <td>-0.444430</td>\n",
       "      <td>-0.008344</td>\n",
       "      <td>-0.086268</td>\n",
       "    </tr>\n",
       "    <tr>\n",
       "      <th>Month_occ</th>\n",
       "      <td>0.006491</td>\n",
       "      <td>-0.000942</td>\n",
       "      <td>-0.018302</td>\n",
       "      <td>-0.010729</td>\n",
       "      <td>1.000000</td>\n",
       "      <td>0.903304</td>\n",
       "      <td>-0.010189</td>\n",
       "      <td>0.000720</td>\n",
       "      <td>0.002287</td>\n",
       "      <td>-0.021851</td>\n",
       "    </tr>\n",
       "    <tr>\n",
       "      <th>Month_rep</th>\n",
       "      <td>-0.003498</td>\n",
       "      <td>-0.001683</td>\n",
       "      <td>-0.020860</td>\n",
       "      <td>-0.006540</td>\n",
       "      <td>0.903304</td>\n",
       "      <td>1.000000</td>\n",
       "      <td>-0.007422</td>\n",
       "      <td>-0.004327</td>\n",
       "      <td>-0.001160</td>\n",
       "      <td>-0.029159</td>\n",
       "    </tr>\n",
       "    <tr>\n",
       "      <th>Part_1_2</th>\n",
       "      <td>-0.015013</td>\n",
       "      <td>0.006479</td>\n",
       "      <td>-0.004477</td>\n",
       "      <td>-0.002050</td>\n",
       "      <td>-0.010189</td>\n",
       "      <td>-0.007422</td>\n",
       "      <td>1.000000</td>\n",
       "      <td>-0.001981</td>\n",
       "      <td>-0.028778</td>\n",
       "      <td>0.186676</td>\n",
       "    </tr>\n",
       "    <tr>\n",
       "      <th>Reporting_District_no</th>\n",
       "      <td>-0.005032</td>\n",
       "      <td>-0.008961</td>\n",
       "      <td>0.333720</td>\n",
       "      <td>-0.444430</td>\n",
       "      <td>0.000720</td>\n",
       "      <td>-0.004327</td>\n",
       "      <td>-0.001981</td>\n",
       "      <td>1.000000</td>\n",
       "      <td>0.012781</td>\n",
       "      <td>0.028307</td>\n",
       "    </tr>\n",
       "    <tr>\n",
       "      <th>Time_Occurred</th>\n",
       "      <td>0.034563</td>\n",
       "      <td>0.016970</td>\n",
       "      <td>0.014439</td>\n",
       "      <td>-0.008344</td>\n",
       "      <td>0.002287</td>\n",
       "      <td>-0.001160</td>\n",
       "      <td>-0.028778</td>\n",
       "      <td>0.012781</td>\n",
       "      <td>1.000000</td>\n",
       "      <td>-0.018215</td>\n",
       "    </tr>\n",
       "    <tr>\n",
       "      <th>Victim_Age</th>\n",
       "      <td>-0.013521</td>\n",
       "      <td>-0.003701</td>\n",
       "      <td>0.041209</td>\n",
       "      <td>-0.086268</td>\n",
       "      <td>-0.021851</td>\n",
       "      <td>-0.029159</td>\n",
       "      <td>0.186676</td>\n",
       "      <td>0.028307</td>\n",
       "      <td>-0.018215</td>\n",
       "      <td>1.000000</td>\n",
       "    </tr>\n",
       "  </tbody>\n",
       "</table>\n",
       "</div>"
      ],
      "text/plain": [
       "                        Day_occ   Day_rep  Latitude  Longitude  Month_occ  \\\n",
       "Day_occ                1.000000  0.735728  0.001197  -0.002016   0.006491   \n",
       "Day_rep                0.735728  1.000000 -0.000560  -0.001678  -0.000942   \n",
       "Latitude               0.001197 -0.000560  1.000000  -0.571497  -0.018302   \n",
       "Longitude             -0.002016 -0.001678 -0.571497   1.000000  -0.010729   \n",
       "Month_occ              0.006491 -0.000942 -0.018302  -0.010729   1.000000   \n",
       "Month_rep             -0.003498 -0.001683 -0.020860  -0.006540   0.903304   \n",
       "Part_1_2              -0.015013  0.006479 -0.004477  -0.002050  -0.010189   \n",
       "Reporting_District_no -0.005032 -0.008961  0.333720  -0.444430   0.000720   \n",
       "Time_Occurred          0.034563  0.016970  0.014439  -0.008344   0.002287   \n",
       "Victim_Age            -0.013521 -0.003701  0.041209  -0.086268  -0.021851   \n",
       "\n",
       "                       Month_rep  Part_1_2  Reporting_District_no  \\\n",
       "Day_occ                -0.003498 -0.015013              -0.005032   \n",
       "Day_rep                -0.001683  0.006479              -0.008961   \n",
       "Latitude               -0.020860 -0.004477               0.333720   \n",
       "Longitude              -0.006540 -0.002050              -0.444430   \n",
       "Month_occ               0.903304 -0.010189               0.000720   \n",
       "Month_rep               1.000000 -0.007422              -0.004327   \n",
       "Part_1_2               -0.007422  1.000000              -0.001981   \n",
       "Reporting_District_no  -0.004327 -0.001981               1.000000   \n",
       "Time_Occurred          -0.001160 -0.028778               0.012781   \n",
       "Victim_Age             -0.029159  0.186676               0.028307   \n",
       "\n",
       "                       Time_Occurred  Victim_Age  \n",
       "Day_occ                     0.034563   -0.013521  \n",
       "Day_rep                     0.016970   -0.003701  \n",
       "Latitude                    0.014439    0.041209  \n",
       "Longitude                  -0.008344   -0.086268  \n",
       "Month_occ                   0.002287   -0.021851  \n",
       "Month_rep                  -0.001160   -0.029159  \n",
       "Part_1_2                   -0.028778    0.186676  \n",
       "Reporting_District_no       0.012781    0.028307  \n",
       "Time_Occurred               1.000000   -0.018215  \n",
       "Victim_Age                 -0.018215    1.000000  "
      ]
     },
     "execution_count": 136,
     "metadata": {},
     "output_type": "execute_result"
    }
   ],
   "source": [
    "#Checking multi-collinearity\n",
    "X.select_dtypes(['float', 'int32']).corr()"
   ]
  },
  {
   "cell_type": "code",
   "execution_count": 137,
   "id": "b605d977-865d-4d07-8b01-f04190ba96c9",
   "metadata": {},
   "outputs": [
    {
     "data": {
      "text/plain": [
       "<Axes: >"
      ]
     },
     "execution_count": 137,
     "metadata": {},
     "output_type": "execute_result"
    },
    {
     "data": {
      "image/png": "[encoded data removed]",
      "text/plain": [
       "<Figure size 800x300 with 2 Axes>"
      ]
     },
     "metadata": {},
     "output_type": "display_data"
    }
   ],
   "source": [
    "sns.set(style=\"ticks\")\n",
    "plt.figure(figsize=(8, 3))\n",
    "sns.heatmap(X.select_dtypes(['float','int32']).corr(), annot=True)"
   ]
  },
  {
   "cell_type": "code",
   "execution_count": 140,
   "id": "6347603c-7380-4f7e-b6ec-1d166e525df6",
   "metadata": {},
   "outputs": [],
   "source": [
    "#Dropping column with high multi-collinearity\n",
    "X.drop(columns=['Reporting_District_no', 'Latitude', 'Longitude', 'Day_occ', 'Day_rep', 'Month_occ', 'Month_rep'], inplace=True)\n",
    "test.drop(columns=['Reporting_District_no', 'Latitude', 'Longitude', 'Date_Occurred', 'Date_Reported'], inplace=True)"
   ]
  },
  {
   "cell_type": "code",
   "execution_count": 143,
   "id": "d6d6bb0a-313f-4f78-9034-3adecd7382b2",
   "metadata": {},
   "outputs": [],
   "source": [
    "#to make test data columns consistent with train data.\n",
    "test=test[X.columns]"
   ]
  },
  {
   "cell_type": "markdown",
   "id": "1d3509fc-aded-4c5c-9a7c-e92fa73744d4",
   "metadata": {},
   "source": [
    "### Data Pre-Processing"
   ]
  },
  {
   "cell_type": "code",
   "execution_count": 144,
   "id": "790ea939-22e8-484e-b03f-bf390efa66d1",
   "metadata": {},
   "outputs": [],
   "source": [
    "#Encoding target variable using Label Encoder.\n",
    "label_encoder= LabelEncoder()\n",
    "y_enc=label_encoder.fit_transform(y)"
   ]
  },
  {
   "cell_type": "code",
   "execution_count": 145,
   "id": "79f05a4d-b22e-4940-a15a-32da413a5751",
   "metadata": {},
   "outputs": [],
   "source": [
    "#Encoding features using One-Hot Encoder.\n",
    "X_cat= X.select_dtypes('object')\n",
    "X_num= X.select_dtypes(['float64', 'int32'])\n",
    "test_cat= test.select_dtypes('object')\n",
    "test_num= test.select_dtypes(['float64', 'int32'])"
   ]
  },
  {
   "cell_type": "code",
   "execution_count": 146,
   "id": "9a1b88fb-b965-42ef-9794-48c0a3f83e60",
   "metadata": {},
   "outputs": [
    {
     "data": {
      "text/plain": [
       "array(['Area_Name_Central', 'Area_Name_Devonshire', 'Area_Name_Foothill',\n",
       "       'Area_Name_Harbor', 'Area_Name_Hollenbeck', 'Area_Name_Hollywood',\n",
       "       'Area_Name_Mission', 'Area_Name_N Hollywood', 'Area_Name_Newton',\n",
       "       'Area_Name_Northeast', 'Area_Name_Olympic', 'Area_Name_Pacific',\n",
       "       'Area_Name_Rampart', 'Area_Name_Southeast', 'Area_Name_Southwest',\n",
       "       'Area_Name_Topanga', 'Area_Name_Van Nuys', 'Area_Name_West LA',\n",
       "       'Area_Name_West Valley', 'Area_Name_Wilshire', 'Status_AO',\n",
       "       'Status_IC', 'Status_JA', 'Status_JO', 'Victim_Descent_B',\n",
       "       'Victim_Descent_C', 'Victim_Descent_D', 'Victim_Descent_F',\n",
       "       'Victim_Descent_G', 'Victim_Descent_H', 'Victim_Descent_I',\n",
       "       'Victim_Descent_J', 'Victim_Descent_K', 'Victim_Descent_O',\n",
       "       'Victim_Descent_P', 'Victim_Descent_U', 'Victim_Descent_V',\n",
       "       'Victim_Descent_W', 'Victim_Descent_X', 'Victim_Descent_Z',\n",
       "       'Victim_Sex_H', 'Victim_Sex_M', 'Victim_Sex_X',\n",
       "       'Weapon_Description_ASSAULT WEAPON/UZI/AK47/ETC',\n",
       "       'Weapon_Description_AXE',\n",
       "       'Weapon_Description_BELT FLAILING INSTRUMENT/CHAIN',\n",
       "       'Weapon_Description_BLUNT INSTRUMENT', 'Weapon_Description_BOARD',\n",
       "       'Weapon_Description_BOMB THREAT', 'Weapon_Description_BOTTLE',\n",
       "       'Weapon_Description_BOWIE KNIFE',\n",
       "       'Weapon_Description_BRASS KNUCKLES',\n",
       "       'Weapon_Description_CAUSTIC CHEMICAL/POISON',\n",
       "       'Weapon_Description_CLEAVER', 'Weapon_Description_CLUB/BAT',\n",
       "       'Weapon_Description_CONCRETE BLOCK/BRICK',\n",
       "       'Weapon_Description_DEMAND NOTE', 'Weapon_Description_FIRE',\n",
       "       'Weapon_Description_FIXED OBJECT',\n",
       "       'Weapon_Description_FOLDING KNIFE', 'Weapon_Description_GLASS',\n",
       "       'Weapon_Description_HAMMER', 'Weapon_Description_HAND GUN',\n",
       "       'Weapon_Description_HECKLER & KOCH 93 SEMIAUTOMATIC ASSAULT RIFLE',\n",
       "       'Weapon_Description_ICE PICK', 'Weapon_Description_KITCHEN KNIFE',\n",
       "       'Weapon_Description_KNIFE WITH BLADE 6INCHES OR LESS',\n",
       "       'Weapon_Description_KNIFE WITH BLADE OVER 6 INCHES IN LENGTH',\n",
       "       'Weapon_Description_MACE/PEPPER SPRAY',\n",
       "       'Weapon_Description_MACHETE',\n",
       "       'Weapon_Description_MARTIAL ARTS WEAPONS',\n",
       "       'Weapon_Description_OTHER CUTTING INSTRUMENT',\n",
       "       'Weapon_Description_OTHER FIREARM',\n",
       "       'Weapon_Description_OTHER KNIFE',\n",
       "       'Weapon_Description_PHYSICAL PRESENCE',\n",
       "       'Weapon_Description_PIPE/METAL PIPE',\n",
       "       'Weapon_Description_RAZOR BLADE', 'Weapon_Description_REVOLVER',\n",
       "       'Weapon_Description_RIFLE',\n",
       "       'Weapon_Description_ROCK/THROWN OBJECT',\n",
       "       'Weapon_Description_SAWED OFF RIFLE/SHOTGUN',\n",
       "       'Weapon_Description_SCALDING LIQUID',\n",
       "       'Weapon_Description_SCISSORS', 'Weapon_Description_SCREWDRIVER',\n",
       "       'Weapon_Description_SEMI-AUTOMATIC PISTOL',\n",
       "       'Weapon_Description_SHOTGUN', 'Weapon_Description_SIMULATED GUN',\n",
       "       'Weapon_Description_STARTER PISTOL/REVOLVER',\n",
       "       'Weapon_Description_STICK',\n",
       "       'Weapon_Description_STRONG-ARM (HANDS, FIST, FEET OR BODILY FORCE)',\n",
       "       'Weapon_Description_STUN GUN', 'Weapon_Description_SWITCH BLADE',\n",
       "       'Weapon_Description_TIRE IRON', 'Weapon_Description_TOY GUN',\n",
       "       'Weapon_Description_UNKNOWN FIREARM',\n",
       "       'Weapon_Description_UNKNOWN TYPE CUTTING INSTRUMENT',\n",
       "       'Weapon_Description_UNKNOWN WEAPON/OTHER WEAPON',\n",
       "       'Weapon_Description_VEHICLE', 'Weapon_Description_VERBAL THREAT'],\n",
       "      dtype=object)"
      ]
     },
     "execution_count": 146,
     "metadata": {},
     "output_type": "execute_result"
    }
   ],
   "source": [
    "ohe= OneHotEncoder(drop='first', sparse_output=False, handle_unknown='ignore')\n",
    "ohen=ohe.fit_transform(X_cat)\n",
    "ohe.get_feature_names_out()"
   ]
  },
  {
   "cell_type": "code",
   "execution_count": 147,
   "id": "c4d6787c-c793-4102-9189-a14de1844c68",
   "metadata": {},
   "outputs": [
    {
     "name": "stderr",
     "output_type": "stream",
     "text": [
      "D:\\Python\\Lib\\site-packages\\sklearn\\preprocessing\\_encoders.py:241: UserWarning: Found unknown categories in columns [2, 4] during transform. These unknown categories will be encoded as all zeros\n",
      "  warnings.warn(\n"
     ]
    }
   ],
   "source": [
    "test_ohe=ohe.transform(test_cat)"
   ]
  },
  {
   "cell_type": "code",
   "execution_count": 148,
   "id": "21c05746-4aab-4847-8266-ec9fbc58d2b5",
   "metadata": {},
   "outputs": [],
   "source": [
    "X_cat=pd.DataFrame(ohen,columns=ohe.get_feature_names_out())\n",
    "test_cat=pd.DataFrame(test_ohe,columns=ohe.get_feature_names_out())"
   ]
  },
  {
   "cell_type": "code",
   "execution_count": 149,
   "id": "b329bfde-5387-4fca-907d-c53721a02858",
   "metadata": {},
   "outputs": [],
   "source": [
    "X_new=pd.concat([X_num,X_cat],axis=1)\n",
    "test0=pd.concat([test_num,test_cat],axis=1)"
   ]
  },
  {
   "cell_type": "code",
   "execution_count": 150,
   "id": "140c47df-9e46-4f48-a02d-6afe2734a54a",
   "metadata": {},
   "outputs": [],
   "source": [
    "#Feature elimination- SelectKBest\n",
    "selector = SelectKBest(score_func=f_classif, k=15)\n",
    "X_selected = selector.fit_transform(X_new, y_enc)\n",
    "X_selected = pd.DataFrame(X_selected, columns=X_new.columns[selector.get_support()])"
   ]
  },
  {
   "cell_type": "code",
   "execution_count": 151,
   "id": "62e53ab4-1cad-4920-9009-5eb65c19336b",
   "metadata": {},
   "outputs": [],
   "source": [
    "test_selec=selector.transform(test0)\n",
    "test_selec = pd.DataFrame(test_selec, columns=test0.columns[selector.get_support()])"
   ]
  },
  {
   "cell_type": "code",
   "execution_count": 152,
   "id": "890b2290-6da0-4a3a-85ff-fd967aca31f5",
   "metadata": {},
   "outputs": [
    {
     "data": {
      "text/html": [
       "<div>\n",
       "<style scoped>\n",
       "    .dataframe tbody tr th:only-of-type {\n",
       "        vertical-align: middle;\n",
       "    }\n",
       "\n",
       "    .dataframe tbody tr th {\n",
       "        vertical-align: top;\n",
       "    }\n",
       "\n",
       "    .dataframe thead th {\n",
       "        text-align: right;\n",
       "    }\n",
       "</style>\n",
       "<table border=\"1\" class=\"dataframe\">\n",
       "  <thead>\n",
       "    <tr style=\"text-align: right;\">\n",
       "      <th></th>\n",
       "      <th>Part_1_2</th>\n",
       "      <th>Victim_Age</th>\n",
       "      <th>Status_AO</th>\n",
       "      <th>Status_IC</th>\n",
       "      <th>Victim_Descent_B</th>\n",
       "      <th>Victim_Descent_H</th>\n",
       "      <th>Victim_Descent_X</th>\n",
       "      <th>Victim_Sex_M</th>\n",
       "      <th>Victim_Sex_X</th>\n",
       "      <th>Weapon_Description_BELT FLAILING INSTRUMENT/CHAIN</th>\n",
       "      <th>Weapon_Description_HAND GUN</th>\n",
       "      <th>Weapon_Description_STRONG-ARM (HANDS, FIST, FEET OR BODILY FORCE)</th>\n",
       "      <th>Weapon_Description_UNKNOWN FIREARM</th>\n",
       "      <th>Weapon_Description_UNKNOWN WEAPON/OTHER WEAPON</th>\n",
       "      <th>Weapon_Description_VERBAL THREAT</th>\n",
       "    </tr>\n",
       "  </thead>\n",
       "  <tbody>\n",
       "    <tr>\n",
       "      <th>0</th>\n",
       "      <td>1.0</td>\n",
       "      <td>75.0</td>\n",
       "      <td>0.0</td>\n",
       "      <td>1.0</td>\n",
       "      <td>0.0</td>\n",
       "      <td>0.0</td>\n",
       "      <td>0.0</td>\n",
       "      <td>1.0</td>\n",
       "      <td>0.0</td>\n",
       "      <td>0.0</td>\n",
       "      <td>0.0</td>\n",
       "      <td>0.0</td>\n",
       "      <td>0.0</td>\n",
       "      <td>1.0</td>\n",
       "      <td>0.0</td>\n",
       "    </tr>\n",
       "    <tr>\n",
       "      <th>1</th>\n",
       "      <td>1.0</td>\n",
       "      <td>41.0</td>\n",
       "      <td>0.0</td>\n",
       "      <td>1.0</td>\n",
       "      <td>0.0</td>\n",
       "      <td>1.0</td>\n",
       "      <td>0.0</td>\n",
       "      <td>1.0</td>\n",
       "      <td>0.0</td>\n",
       "      <td>0.0</td>\n",
       "      <td>0.0</td>\n",
       "      <td>1.0</td>\n",
       "      <td>0.0</td>\n",
       "      <td>0.0</td>\n",
       "      <td>0.0</td>\n",
       "    </tr>\n",
       "    <tr>\n",
       "      <th>2</th>\n",
       "      <td>2.0</td>\n",
       "      <td>67.0</td>\n",
       "      <td>0.0</td>\n",
       "      <td>1.0</td>\n",
       "      <td>1.0</td>\n",
       "      <td>0.0</td>\n",
       "      <td>0.0</td>\n",
       "      <td>1.0</td>\n",
       "      <td>0.0</td>\n",
       "      <td>0.0</td>\n",
       "      <td>0.0</td>\n",
       "      <td>0.0</td>\n",
       "      <td>0.0</td>\n",
       "      <td>1.0</td>\n",
       "      <td>0.0</td>\n",
       "    </tr>\n",
       "    <tr>\n",
       "      <th>3</th>\n",
       "      <td>1.0</td>\n",
       "      <td>61.0</td>\n",
       "      <td>0.0</td>\n",
       "      <td>1.0</td>\n",
       "      <td>0.0</td>\n",
       "      <td>1.0</td>\n",
       "      <td>0.0</td>\n",
       "      <td>1.0</td>\n",
       "      <td>0.0</td>\n",
       "      <td>0.0</td>\n",
       "      <td>0.0</td>\n",
       "      <td>0.0</td>\n",
       "      <td>0.0</td>\n",
       "      <td>1.0</td>\n",
       "      <td>0.0</td>\n",
       "    </tr>\n",
       "    <tr>\n",
       "      <th>4</th>\n",
       "      <td>1.0</td>\n",
       "      <td>0.0</td>\n",
       "      <td>0.0</td>\n",
       "      <td>1.0</td>\n",
       "      <td>0.0</td>\n",
       "      <td>0.0</td>\n",
       "      <td>1.0</td>\n",
       "      <td>0.0</td>\n",
       "      <td>1.0</td>\n",
       "      <td>0.0</td>\n",
       "      <td>0.0</td>\n",
       "      <td>1.0</td>\n",
       "      <td>0.0</td>\n",
       "      <td>0.0</td>\n",
       "      <td>0.0</td>\n",
       "    </tr>\n",
       "    <tr>\n",
       "      <th>...</th>\n",
       "      <td>...</td>\n",
       "      <td>...</td>\n",
       "      <td>...</td>\n",
       "      <td>...</td>\n",
       "      <td>...</td>\n",
       "      <td>...</td>\n",
       "      <td>...</td>\n",
       "      <td>...</td>\n",
       "      <td>...</td>\n",
       "      <td>...</td>\n",
       "      <td>...</td>\n",
       "      <td>...</td>\n",
       "      <td>...</td>\n",
       "      <td>...</td>\n",
       "      <td>...</td>\n",
       "    </tr>\n",
       "    <tr>\n",
       "      <th>19971</th>\n",
       "      <td>2.0</td>\n",
       "      <td>51.0</td>\n",
       "      <td>0.0</td>\n",
       "      <td>1.0</td>\n",
       "      <td>0.0</td>\n",
       "      <td>1.0</td>\n",
       "      <td>0.0</td>\n",
       "      <td>1.0</td>\n",
       "      <td>0.0</td>\n",
       "      <td>0.0</td>\n",
       "      <td>0.0</td>\n",
       "      <td>1.0</td>\n",
       "      <td>0.0</td>\n",
       "      <td>0.0</td>\n",
       "      <td>0.0</td>\n",
       "    </tr>\n",
       "    <tr>\n",
       "      <th>19972</th>\n",
       "      <td>1.0</td>\n",
       "      <td>0.0</td>\n",
       "      <td>0.0</td>\n",
       "      <td>1.0</td>\n",
       "      <td>0.0</td>\n",
       "      <td>0.0</td>\n",
       "      <td>0.0</td>\n",
       "      <td>1.0</td>\n",
       "      <td>0.0</td>\n",
       "      <td>0.0</td>\n",
       "      <td>0.0</td>\n",
       "      <td>0.0</td>\n",
       "      <td>0.0</td>\n",
       "      <td>1.0</td>\n",
       "      <td>0.0</td>\n",
       "    </tr>\n",
       "    <tr>\n",
       "      <th>19973</th>\n",
       "      <td>1.0</td>\n",
       "      <td>42.0</td>\n",
       "      <td>0.0</td>\n",
       "      <td>1.0</td>\n",
       "      <td>0.0</td>\n",
       "      <td>1.0</td>\n",
       "      <td>0.0</td>\n",
       "      <td>1.0</td>\n",
       "      <td>0.0</td>\n",
       "      <td>0.0</td>\n",
       "      <td>0.0</td>\n",
       "      <td>0.0</td>\n",
       "      <td>0.0</td>\n",
       "      <td>1.0</td>\n",
       "      <td>0.0</td>\n",
       "    </tr>\n",
       "    <tr>\n",
       "      <th>19974</th>\n",
       "      <td>2.0</td>\n",
       "      <td>76.0</td>\n",
       "      <td>0.0</td>\n",
       "      <td>1.0</td>\n",
       "      <td>0.0</td>\n",
       "      <td>1.0</td>\n",
       "      <td>0.0</td>\n",
       "      <td>0.0</td>\n",
       "      <td>0.0</td>\n",
       "      <td>0.0</td>\n",
       "      <td>0.0</td>\n",
       "      <td>0.0</td>\n",
       "      <td>0.0</td>\n",
       "      <td>1.0</td>\n",
       "      <td>0.0</td>\n",
       "    </tr>\n",
       "    <tr>\n",
       "      <th>19975</th>\n",
       "      <td>1.0</td>\n",
       "      <td>0.0</td>\n",
       "      <td>0.0</td>\n",
       "      <td>1.0</td>\n",
       "      <td>0.0</td>\n",
       "      <td>1.0</td>\n",
       "      <td>0.0</td>\n",
       "      <td>1.0</td>\n",
       "      <td>0.0</td>\n",
       "      <td>0.0</td>\n",
       "      <td>0.0</td>\n",
       "      <td>0.0</td>\n",
       "      <td>0.0</td>\n",
       "      <td>1.0</td>\n",
       "      <td>0.0</td>\n",
       "    </tr>\n",
       "  </tbody>\n",
       "</table>\n",
       "<p>19976 rows × 15 columns</p>\n",
       "</div>"
      ],
      "text/plain": [
       "       Part_1_2  Victim_Age  Status_AO  Status_IC  Victim_Descent_B  \\\n",
       "0           1.0        75.0        0.0        1.0               0.0   \n",
       "1           1.0        41.0        0.0        1.0               0.0   \n",
       "2           2.0        67.0        0.0        1.0               1.0   \n",
       "3           1.0        61.0        0.0        1.0               0.0   \n",
       "4           1.0         0.0        0.0        1.0               0.0   \n",
       "...         ...         ...        ...        ...               ...   \n",
       "19971       2.0        51.0        0.0        1.0               0.0   \n",
       "19972       1.0         0.0        0.0        1.0               0.0   \n",
       "19973       1.0        42.0        0.0        1.0               0.0   \n",
       "19974       2.0        76.0        0.0        1.0               0.0   \n",
       "19975       1.0         0.0        0.0        1.0               0.0   \n",
       "\n",
       "       Victim_Descent_H  Victim_Descent_X  Victim_Sex_M  Victim_Sex_X  \\\n",
       "0                   0.0               0.0           1.0           0.0   \n",
       "1                   1.0               0.0           1.0           0.0   \n",
       "2                   0.0               0.0           1.0           0.0   \n",
       "3                   1.0               0.0           1.0           0.0   \n",
       "4                   0.0               1.0           0.0           1.0   \n",
       "...                 ...               ...           ...           ...   \n",
       "19971               1.0               0.0           1.0           0.0   \n",
       "19972               0.0               0.0           1.0           0.0   \n",
       "19973               1.0               0.0           1.0           0.0   \n",
       "19974               1.0               0.0           0.0           0.0   \n",
       "19975               1.0               0.0           1.0           0.0   \n",
       "\n",
       "       Weapon_Description_BELT FLAILING INSTRUMENT/CHAIN  \\\n",
       "0                                                    0.0   \n",
       "1                                                    0.0   \n",
       "2                                                    0.0   \n",
       "3                                                    0.0   \n",
       "4                                                    0.0   \n",
       "...                                                  ...   \n",
       "19971                                                0.0   \n",
       "19972                                                0.0   \n",
       "19973                                                0.0   \n",
       "19974                                                0.0   \n",
       "19975                                                0.0   \n",
       "\n",
       "       Weapon_Description_HAND GUN  \\\n",
       "0                              0.0   \n",
       "1                              0.0   \n",
       "2                              0.0   \n",
       "3                              0.0   \n",
       "4                              0.0   \n",
       "...                            ...   \n",
       "19971                          0.0   \n",
       "19972                          0.0   \n",
       "19973                          0.0   \n",
       "19974                          0.0   \n",
       "19975                          0.0   \n",
       "\n",
       "       Weapon_Description_STRONG-ARM (HANDS, FIST, FEET OR BODILY FORCE)  \\\n",
       "0                                                    0.0                   \n",
       "1                                                    1.0                   \n",
       "2                                                    0.0                   \n",
       "3                                                    0.0                   \n",
       "4                                                    1.0                   \n",
       "...                                                  ...                   \n",
       "19971                                                1.0                   \n",
       "19972                                                0.0                   \n",
       "19973                                                0.0                   \n",
       "19974                                                0.0                   \n",
       "19975                                                0.0                   \n",
       "\n",
       "       Weapon_Description_UNKNOWN FIREARM  \\\n",
       "0                                     0.0   \n",
       "1                                     0.0   \n",
       "2                                     0.0   \n",
       "3                                     0.0   \n",
       "4                                     0.0   \n",
       "...                                   ...   \n",
       "19971                                 0.0   \n",
       "19972                                 0.0   \n",
       "19973                                 0.0   \n",
       "19974                                 0.0   \n",
       "19975                                 0.0   \n",
       "\n",
       "       Weapon_Description_UNKNOWN WEAPON/OTHER WEAPON  \\\n",
       "0                                                 1.0   \n",
       "1                                                 0.0   \n",
       "2                                                 1.0   \n",
       "3                                                 1.0   \n",
       "4                                                 0.0   \n",
       "...                                               ...   \n",
       "19971                                             0.0   \n",
       "19972                                             1.0   \n",
       "19973                                             1.0   \n",
       "19974                                             1.0   \n",
       "19975                                             1.0   \n",
       "\n",
       "       Weapon_Description_VERBAL THREAT  \n",
       "0                                   0.0  \n",
       "1                                   0.0  \n",
       "2                                   0.0  \n",
       "3                                   0.0  \n",
       "4                                   0.0  \n",
       "...                                 ...  \n",
       "19971                               0.0  \n",
       "19972                               0.0  \n",
       "19973                               0.0  \n",
       "19974                               0.0  \n",
       "19975                               0.0  \n",
       "\n",
       "[19976 rows x 15 columns]"
      ]
     },
     "execution_count": 152,
     "metadata": {},
     "output_type": "execute_result"
    }
   ],
   "source": [
    "X_selected"
   ]
  },
  {
   "cell_type": "code",
   "execution_count": 153,
   "id": "f3e2e2e9-839d-4ae4-9b9e-ad8f55d87b15",
   "metadata": {},
   "outputs": [],
   "source": [
    "#Balancing the data- using SMOTE technique\n",
    "from imblearn.over_sampling import SMOTE\n",
    "smote = SMOTE(random_state=42)\n",
    "X_res, y_res = smote.fit_resample(X_selected, y_enc)"
   ]
  },
  {
   "cell_type": "code",
   "execution_count": 154,
   "id": "74107d2f-8fa6-4eb6-a4b0-0cf05ba83c16",
   "metadata": {},
   "outputs": [
    {
     "data": {
      "text/plain": [
       "(69918, 15)"
      ]
     },
     "execution_count": 154,
     "metadata": {},
     "output_type": "execute_result"
    }
   ],
   "source": [
    "X_res.shape"
   ]
  },
  {
   "cell_type": "code",
   "execution_count": 155,
   "id": "e958d900-e1b4-46c5-a677-e01d902ef510",
   "metadata": {},
   "outputs": [
    {
     "data": {
      "text/plain": [
       "(69918,)"
      ]
     },
     "execution_count": 155,
     "metadata": {},
     "output_type": "execute_result"
    }
   ],
   "source": [
    "y_res.shape"
   ]
  },
  {
   "cell_type": "code",
   "execution_count": 156,
   "id": "25190f7f-8a86-4dd4-8d95-393d2cd56381",
   "metadata": {},
   "outputs": [],
   "source": [
    "#Train-test split\n",
    "X_train, X_val, y_train, y_val=train_test_split(X_res, y_res, test_size=0.3, random_state=37)"
   ]
  },
  {
   "cell_type": "markdown",
   "id": "78f3ff80-a862-4904-a1ee-46f731b315e9",
   "metadata": {},
   "source": [
    "## RandomForest"
   ]
  },
  {
   "cell_type": "code",
   "execution_count": 157,
   "id": "884a3222-33ff-466f-ba1f-1ce5a5b3bcc9",
   "metadata": {},
   "outputs": [
    {
     "data": {
      "text/plain": [
       "{'n_estimators': 150,\n",
       " 'min_samples_split': 200,\n",
       " 'min_samples_leaf': 50,\n",
       " 'max_depth': 8}"
      ]
     },
     "execution_count": 157,
     "metadata": {},
     "output_type": "execute_result"
    }
   ],
   "source": [
    "#Hyperparameter tuning using RandomizedSearchCV\n",
    "Grid= {'n_estimators': [50, 100, 120, 150],'max_depth':[2,4,6,8,10], 'min_samples_split': [50,100,200,400], 'min_samples_leaf': [50,100,200,400]}\n",
    "grcv= RandomizedSearchCV(RandomForestClassifier(random_state=45), Grid, n_jobs=-1, cv=3)\n",
    "grcv.fit(X_train, y_train)\n",
    "grcv.best_params_"
   ]
  },
  {
   "cell_type": "code",
   "execution_count": 158,
   "id": "6bba359c-0e07-4854-85cf-b9d75c9b8c08",
   "metadata": {},
   "outputs": [],
   "source": [
    "#tarining model\n",
    "model0= RandomForestClassifier(n_estimators=100, min_samples_split=200, min_samples_leaf=50, max_depth=10)\n",
    "model0= model0.fit(X_train, y_train)"
   ]
  },
  {
   "cell_type": "code",
   "execution_count": 160,
   "id": "907c1de9-de52-48fa-9f38-f91e67cbf009",
   "metadata": {},
   "outputs": [
    {
     "data": {
      "text/plain": [
       "0.7941849536185689"
      ]
     },
     "execution_count": 160,
     "metadata": {},
     "output_type": "execute_result"
    }
   ],
   "source": [
    "#prediction on train data\n",
    "rf_pred0=model0.predict(X_train)\n",
    "accuracy_score(y_train, rf_pred0)"
   ]
  },
  {
   "cell_type": "code",
   "execution_count": 159,
   "id": "214a46eb-8920-4806-a466-70a19b576695",
   "metadata": {},
   "outputs": [
    {
     "data": {
      "text/plain": [
       "array([5, 1, 3, ..., 3, 0, 1])"
      ]
     },
     "execution_count": 159,
     "metadata": {},
     "output_type": "execute_result"
    }
   ],
   "source": [
    "#prediction on validation data\n",
    "rf_pred=model0.predict(X_val)\n",
    "rf_pred"
   ]
  },
  {
   "cell_type": "code",
   "execution_count": 161,
   "id": "87e0a24b-d30e-46f1-9c43-d95e9b589857",
   "metadata": {},
   "outputs": [
    {
     "data": {
      "text/plain": [
       "0.7906655225019069"
      ]
     },
     "execution_count": 161,
     "metadata": {},
     "output_type": "execute_result"
    }
   ],
   "source": [
    "accuracy_score(y_val, rf_pred)  #hence there is no overfitting"
   ]
  },
  {
   "cell_type": "code",
   "execution_count": 162,
   "id": "cc37ecde-7cca-418b-8c38-294b7212585a",
   "metadata": {},
   "outputs": [
    {
     "name": "stdout",
     "output_type": "stream",
     "text": [
      "              precision    recall  f1-score   support\n",
      "\n",
      "           0       0.90      0.98      0.94      3478\n",
      "           1       0.83      0.52      0.64      3508\n",
      "           2       0.62      0.90      0.73      3463\n",
      "           3       0.72      0.74      0.73      3479\n",
      "           4       0.96      0.75      0.84      3511\n",
      "           5       0.82      0.85      0.84      3537\n",
      "\n",
      "    accuracy                           0.79     20976\n",
      "   macro avg       0.81      0.79      0.79     20976\n",
      "weighted avg       0.81      0.79      0.79     20976\n",
      "\n"
     ]
    }
   ],
   "source": [
    "print(classification_report(y_val,rf_pred))"
   ]
  },
  {
   "cell_type": "code",
   "execution_count": null,
   "id": "3da39924-a7ef-4fb4-96ca-1d7290cb5131",
   "metadata": {},
   "outputs": [],
   "source": [
    "#Now evaluate another model to get better accuracy."
   ]
  },
  {
   "cell_type": "markdown",
   "id": "ba210df6-41f1-4f2e-94aa-bb2da66d739f",
   "metadata": {},
   "source": [
    "## XgBoost"
   ]
  },
  {
   "cell_type": "code",
   "execution_count": 163,
   "id": "af966cb4-c332-41d8-96bd-6616a476e254",
   "metadata": {},
   "outputs": [],
   "source": [
    "import xgboost"
   ]
  },
  {
   "cell_type": "code",
   "execution_count": 164,
   "id": "4f0c4911-b8e4-44e7-9268-8f5fc6b56904",
   "metadata": {},
   "outputs": [],
   "source": [
    "from xgboost import XGBClassifier"
   ]
  },
  {
   "cell_type": "code",
   "execution_count": 165,
   "id": "df3adb07-6b50-4337-94f6-6bcbfaaa301d",
   "metadata": {},
   "outputs": [
    {
     "data": {
      "text/plain": [
       "array([5, 0, 3, ..., 3, 0, 1], dtype=int64)"
      ]
     },
     "execution_count": 165,
     "metadata": {},
     "output_type": "execute_result"
    }
   ],
   "source": [
    "#training model\n",
    "model1 = XGBClassifier(n_estimators=100, max_depth=10)\n",
    "model1= model1.fit(X_train,y_train)\n",
    "xg_pred = model1.predict(X_train) \n",
    "xg_pred0 = model1.predict(X_val)\n",
    "xg_pred0"
   ]
  },
  {
   "cell_type": "code",
   "execution_count": 166,
   "id": "79e38903-963a-45c0-a9ea-483eaea8ff36",
   "metadata": {},
   "outputs": [
    {
     "name": "stdout",
     "output_type": "stream",
     "text": [
      "['Violent Crimes' 'Crimes against Persons' 'Other Crimes' ...\n",
      " 'Other Crimes' 'Crimes against Persons' 'Crimes against Public Order']\n"
     ]
    }
   ],
   "source": [
    "y_predictlabels= label_encoder.inverse_transform(xg_pred0)\n",
    "print(y_predictlabels)"
   ]
  },
  {
   "cell_type": "code",
   "execution_count": 167,
   "id": "c5064e6e-ab88-46b5-8037-bc0e56bf1072",
   "metadata": {},
   "outputs": [
    {
     "data": {
      "text/plain": [
       "0.9120183073842507"
      ]
     },
     "execution_count": 167,
     "metadata": {},
     "output_type": "execute_result"
    }
   ],
   "source": [
    "accuracy_score(y_train, xg_pred)"
   ]
  },
  {
   "cell_type": "code",
   "execution_count": 168,
   "id": "9d68a350-1f9b-4cd3-8322-f972165b14a0",
   "metadata": {},
   "outputs": [
    {
     "data": {
      "text/plain": [
       "0.8696128909229596"
      ]
     },
     "execution_count": 168,
     "metadata": {},
     "output_type": "execute_result"
    }
   ],
   "source": [
    "accuracy_score(y_val,xg_pred0)     #overfitting is negligible"
   ]
  },
  {
   "cell_type": "code",
   "execution_count": 169,
   "id": "0309a853-64f8-4d4a-b61c-8e0a8d13fe8b",
   "metadata": {},
   "outputs": [
    {
     "name": "stdout",
     "output_type": "stream",
     "text": [
      "              precision    recall  f1-score   support\n",
      "\n",
      "           0       0.98      0.99      0.98      3478\n",
      "           1       0.85      0.73      0.78      3508\n",
      "           2       0.76      0.89      0.82      3463\n",
      "           3       0.83      0.94      0.88      3479\n",
      "           4       0.93      0.80      0.86      3511\n",
      "           5       0.90      0.88      0.89      3537\n",
      "\n",
      "    accuracy                           0.87     20976\n",
      "   macro avg       0.87      0.87      0.87     20976\n",
      "weighted avg       0.87      0.87      0.87     20976\n",
      "\n"
     ]
    }
   ],
   "source": [
    "print(classification_report(y_val,xg_pred0))"
   ]
  },
  {
   "cell_type": "code",
   "execution_count": 170,
   "id": "ea1c5426-5e66-46f5-a7c7-457735a35e85",
   "metadata": {},
   "outputs": [],
   "source": [
    "#Since xgboost model gave better accuracy, therefore, it was selected for test data prediction.\n",
    "xg_pred_test=model1.predict(test_selec)\n",
    "t=pd.DataFrame(xg_pred_test)"
   ]
  },
  {
   "cell_type": "code",
   "execution_count": 188,
   "id": "929835d2-0fbf-4461-a5f8-3043f1458581",
   "metadata": {},
   "outputs": [],
   "source": [
    "predicted_labels = label_encoder.inverse_transform(xg_pred_test.astype(int))"
   ]
  },
  {
   "cell_type": "code",
   "execution_count": 189,
   "id": "b8023420-2f28-4c80-99d2-8f02bec78abb",
   "metadata": {},
   "outputs": [
    {
     "data": {
      "text/plain": [
       "array(['Violent Crimes', 'Property Crimes', 'Property Crimes', ...,\n",
       "       'Violent Crimes', 'Property Crimes', 'Crimes against Public Order'],\n",
       "      dtype=object)"
      ]
     },
     "execution_count": 189,
     "metadata": {},
     "output_type": "execute_result"
    }
   ],
   "source": [
    "predicted_labels"
   ]
  },
  {
   "cell_type": "code",
   "execution_count": 171,
   "id": "08cc5454-f643-4fce-819e-9c26ccbde457",
   "metadata": {},
   "outputs": [],
   "source": [
    "t['ID']=t.index + 1"
   ]
  },
  {
   "cell_type": "code",
   "execution_count": 190,
   "id": "a8d8b0aa-6f54-41c9-9814-a9b1915a5a2b",
   "metadata": {},
   "outputs": [],
   "source": [
    "submission= pd.DataFrame({'ID':t['ID'], 'Crime_Category':predicted_labels})\n",
    "submission.to_csv(\"C:\\\\Users\\\\user\\\\Downloads\\\\Crimecategorydata\\\\submission.csv\", index=False)"
   ]
  },
  {
   "cell_type": "code",
   "execution_count": 187,
   "id": "05c190a5-0304-4cc7-b68e-67bf0a5d9775",
   "metadata": {},
   "outputs": [
    {
     "name": "stdout",
     "output_type": "stream",
     "text": [
      "<class 'pandas.core.frame.DataFrame'>\n",
      "RangeIndex: 5000 entries, 0 to 4999\n",
      "Data columns (total 2 columns):\n",
      " #   Column          Non-Null Count  Dtype\n",
      "---  ------          --------------  -----\n",
      " 0   ID              5000 non-null   int64\n",
      " 1   Crime_Category  5000 non-null   int32\n",
      "dtypes: int32(1), int64(1)\n",
      "memory usage: 58.7 KB\n"
     ]
    }
   ],
   "source": [
    "submission.info()"
   ]
  },
  {
   "cell_type": "code",
   "execution_count": 173,
   "id": "fe2ddcda-c55f-4c40-be6f-913229b53268",
   "metadata": {},
   "outputs": [],
   "source": [
    "#Creating joblib file using serialization"
   ]
  },
  {
   "cell_type": "code",
   "execution_count": 176,
   "id": "3b948037-4b8a-45e4-b5b2-9e72174eb79f",
   "metadata": {},
   "outputs": [],
   "source": [
    "model1.save_model(\"C:\\\\Users\\\\user\\\\Downloads\\\\Crimecategorydata\\\\xgb_model.json\")"
   ]
  },
  {
   "cell_type": "code",
   "execution_count": 177,
   "id": "24c5c07a-6a4f-4e30-bf73-18514cc8b55a",
   "metadata": {},
   "outputs": [
    {
     "data": {
      "text/plain": [
       "['C:\\\\Users\\\\user\\\\Downloads\\\\Crimecategorydata\\\\CrimeData.pkl']"
      ]
     },
     "execution_count": 177,
     "metadata": {},
     "output_type": "execute_result"
    }
   ],
   "source": [
    "import joblib\n",
    "\n",
    "bundle = {'model': model1,'encoder_y': label_encoder,'encoder_x': ohe,'selectkbest': selector}\n",
    "\n",
    "joblib.dump(bundle, \"C:\\\\Users\\\\user\\\\Downloads\\\\Crimecategorydata\\\\CrimeData.pkl\")\n"
   ]
  },
  {
   "cell_type": "code",
   "execution_count": 178,
   "id": "aecb2121-b0c6-4879-9a8e-14deeb3bd390",
   "metadata": {},
   "outputs": [
    {
     "data": {
      "text/plain": [
       "{'model': XGBClassifier(base_score=None, booster=None, callbacks=None,\n",
       "               colsample_bylevel=None, colsample_bynode=None,\n",
       "               colsample_bytree=None, device=None, early_stopping_rounds=None,\n",
       "               enable_categorical=False, eval_metric=None, feature_types=None,\n",
       "               feature_weights=None, gamma=None, grow_policy=None,\n",
       "               importance_type=None, interaction_constraints=None,\n",
       "               learning_rate=None, max_bin=None, max_cat_threshold=None,\n",
       "               max_cat_to_onehot=None, max_delta_step=None, max_depth=10,\n",
       "               max_leaves=None, min_child_weight=None, missing=nan,\n",
       "               monotone_constraints=None, multi_strategy=None, n_estimators=100,\n",
       "               n_jobs=None, num_parallel_tree=None, ...),\n",
       " 'encoder_y': LabelEncoder(),\n",
       " 'encoder_x': OneHotEncoder(drop='first', handle_unknown='ignore', sparse_output=False),\n",
       " 'selectkbest': SelectKBest(k=15)}"
      ]
     },
     "execution_count": 178,
     "metadata": {},
     "output_type": "execute_result"
    }
   ],
   "source": [
    "bundle"
   ]
  },
  {
   "cell_type": "code",
   "execution_count": 179,
   "id": "b2231569-f9c7-4000-b762-e10d4e075333",
   "metadata": {},
   "outputs": [
    {
     "name": "stdout",
     "output_type": "stream",
     "text": [
      "Bundle keys: dict_keys(['model', 'encoder_X', 'encoder_Y', 'selector'])\n"
     ]
    },
    {
     "name": "stderr",
     "output_type": "stream",
     "text": [
      "D:\\Python\\Lib\\site-packages\\sklearn\\base.py:376: InconsistentVersionWarning: Trying to unpickle estimator OneHotEncoder from version 1.5.0 when using version 1.4.2. This might lead to breaking code or invalid results. Use at your own risk. For more info please refer to:\n",
      "https://scikit-learn.org/stable/model_persistence.html#security-maintainability-limitations\n",
      "  warnings.warn(\n",
      "D:\\Python\\Lib\\site-packages\\sklearn\\base.py:376: InconsistentVersionWarning: Trying to unpickle estimator LabelEncoder from version 1.5.0 when using version 1.4.2. This might lead to breaking code or invalid results. Use at your own risk. For more info please refer to:\n",
      "https://scikit-learn.org/stable/model_persistence.html#security-maintainability-limitations\n",
      "  warnings.warn(\n"
     ]
    }
   ],
   "source": [
    "with open(r\"C:\\Users\\user\\Downloads\\Crimecategorydata\\model_bundle.pkl\", \"rb\") as f:\n",
    "    bundle = joblib.load(f)\n",
    "\n",
    "# Check what’s inside\n",
    "print(\"Bundle keys:\", bundle.keys())\n",
    "\n",
    "# Optional: Inspect individual components\n",
    "model = bundle.get('model')\n",
    "encoder_y = bundle.get('encoder_y')\n",
    "encoder_x = bundle.get('encoder_x')\n",
    "selectkbest = bundle.get('selectkbest')\n",
    "smote = bundle.get('smote')\n"
   ]
  },
  {
   "cell_type": "code",
   "execution_count": 180,
   "id": "820e3b10-2422-4194-a094-d7f7117128c8",
   "metadata": {},
   "outputs": [
    {
     "data": {
      "text/plain": [
       "{'model': XGBClassifier(base_score=None, booster=None, callbacks=None,\n",
       "               colsample_bylevel=None, colsample_bynode=None,\n",
       "               colsample_bytree=None, device=None, early_stopping_rounds=None,\n",
       "               enable_categorical=False, eval_metric=None, feature_types=None,\n",
       "               feature_weights=None, gamma=None, grow_policy=None,\n",
       "               importance_type=None, interaction_constraints=None,\n",
       "               learning_rate=None, max_bin=None, max_cat_threshold=None,\n",
       "               max_cat_to_onehot=None, max_delta_step=None, max_depth=10,\n",
       "               max_leaves=None, min_child_weight=None, missing=nan,\n",
       "               monotone_constraints=None, multi_strategy=None, n_estimators=100,\n",
       "               n_jobs=None, num_parallel_tree=None, ...),\n",
       " 'encoder_X': OneHotEncoder(drop='first', sparse_output=False),\n",
       " 'encoder_Y': LabelEncoder(),\n",
       " 'selector': Index(['Part_1_2', 'Victim_Age', 'Status_AO', 'Status_IC', 'Victim_Descent_B',\n",
       "        'Victim_Descent_X', 'Victim_Sex_M', 'Victim_Sex_X',\n",
       "        'Weapon_Description_BELT FLAILING INSTRUMENT/CHAIN',\n",
       "        'Weapon_Description_STRONG-ARM (HANDS, FIST, FEET OR BODILY FORCE)',\n",
       "        'Weapon_Description_UNKNOWN WEAPON/OTHER WEAPON',\n",
       "        'Weapon_Description_VERBAL THREAT'],\n",
       "       dtype='object')}"
      ]
     },
     "execution_count": 180,
     "metadata": {},
     "output_type": "execute_result"
    }
   ],
   "source": [
    "bundle"
   ]
  },
  {
   "cell_type": "code",
   "execution_count": 181,
   "id": "94de891c-8fb5-4a92-9998-2e16f9f3ba80",
   "metadata": {},
   "outputs": [],
   "source": [
    "from tabulate import tabulate\n",
    "\n",
    "def evaluate_model(model, X_train, y_train, X_val, y_val):\n",
    "    # Calculate metrics\n",
    "    y_pred=model.predict(X_train)\n",
    "    train_acc = accuracy_score(y_train,y_pred)\n",
    "    y_pred0=model.predict(X_val)\n",
    "    test_acc = accuracy_score(y_val,y_pred0)\n",
    "    pr = precision_score(y_train, y_pred, average='weighted')\n",
    "    cr = precision_score(y_val, y_pred0, average='weighted')\n",
    "    \n",
    "    # Prepare the table data\n",
    "    metrics = [\n",
    "        [\"Training accuracy Score\", f\"{train_acc:.4f}\"],\n",
    "        [\"Testing accuracy Score\", f\"{test_acc:.4f}\"],\n",
    "        [\"Training Precision score\", f\"{pr:.2f}\"],\n",
    "        [\"Testing Precision score\", f\"{cr:.2f}\"]\n",
    "    ]\n",
    "    \n",
    "    # Print the table\n",
    "    print(tabulate(metrics, headers=[\"Metric\", \"Value\"], tablefmt=\"grid\"))"
   ]
  },
  {
   "cell_type": "code",
   "execution_count": 182,
   "id": "400a1552-fc17-4f94-a35f-9e487b80ec69",
   "metadata": {},
   "outputs": [
    {
     "name": "stdout",
     "output_type": "stream",
     "text": [
      "+--------------------------+---------+\n",
      "| Metric                   |   Value |\n",
      "+==========================+=========+\n",
      "| Training accuracy Score  |  0.912  |\n",
      "+--------------------------+---------+\n",
      "| Testing accuracy Score   |  0.8696 |\n",
      "+--------------------------+---------+\n",
      "| Training Precision score |  0.92   |\n",
      "+--------------------------+---------+\n",
      "| Testing Precision score  |  0.87   |\n",
      "+--------------------------+---------+\n"
     ]
    }
   ],
   "source": [
    "evaluate_model(model1, X_train, y_train, X_val, y_val)    #xgboost"
   ]
  },
  {
   "cell_type": "code",
   "execution_count": 183,
   "id": "a78a1567-1f9d-4244-9949-aff349e3ac02",
   "metadata": {},
   "outputs": [
    {
     "name": "stdout",
     "output_type": "stream",
     "text": [
      "+--------------------------+---------+\n",
      "| Metric                   |   Value |\n",
      "+==========================+=========+\n",
      "| Training accuracy Score  |  0.7942 |\n",
      "+--------------------------+---------+\n",
      "| Testing accuracy Score   |  0.7907 |\n",
      "+--------------------------+---------+\n",
      "| Training Precision score |  0.81   |\n",
      "+--------------------------+---------+\n",
      "| Testing Precision score  |  0.81   |\n",
      "+--------------------------+---------+\n"
     ]
    }
   ],
   "source": [
    "evaluate_model(model0, X_train, y_train, X_val, y_val)     #Randomforest"
   ]
  },
  {
   "cell_type": "code",
   "execution_count": null,
   "id": "765b38bb-0816-4970-8eb8-c014980c0dc0",
   "metadata": {},
   "outputs": [],
   "source": []
  }
 ],
 "metadata": {
  "kernelspec": {
   "display_name": "Python 3 (ipykernel)",
   "language": "python",
   "name": "python3"
  },
  "language_info": {
   "codemirror_mode": {
    "name": "ipython",
    "version": 3
   },
   "file_extension": ".py",
   "mimetype": "text/x-python",
   "name": "python",
   "nbconvert_exporter": "python",
   "pygments_lexer": "ipython3",
   "version": "3.12.4"
  }
 },
 "nbformat": 4,
 "nbformat_minor": 5
}
